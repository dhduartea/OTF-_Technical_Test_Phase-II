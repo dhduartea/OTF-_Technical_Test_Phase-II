{
 "cells": [
  {
   "attachments": {},
   "cell_type": "markdown",
   "metadata": {},
   "source": [
    "# Technical Test Phase II: \n",
    "    Author: David Horacio Duarte\n",
    "    Email: dhduartea@gmail.com\n",
    "![OTF](https://media.licdn.com/dms/image/D4D0BAQGF5wSwltQCRg/company-logo_200_200/0/1684924515817/onthefuze_logo?e=1716422400&v=beta&t=0sVCpKq8OAnziW10yV8vkETh2ui5D-66qDRyCWEjTSo)\n",
    "\n",
    "Welcome to my technical test for Data Engineer & Analyst position. Throughout this test I will try to demonstrate my experience in Python programming and integrate it with the HubSpot API.  I sincerely appreciate the opportunity and look forward to continue with this process. The process will be broken down into the following sections:\n",
    "1. Extracting the data from the HubSpot API\n",
    "2. Transforming the data.\n",
    "3. Managing duplicates.\n",
    "4. Graphing the data.\n",
    "5. Importing the data into HubsSpot.\n"
   ]
  },
  {
   "cell_type": "markdown",
   "metadata": {},
   "source": [
    "## Libraries"
   ]
  },
  {
   "attachments": {},
   "cell_type": "markdown",
   "metadata": {},
   "source": [
    "- First import the required libraries and modules for the project."
   ]
  },
  {
   "cell_type": "code",
   "execution_count": 1,
   "metadata": {},
   "outputs": [],
   "source": [
    "import pandas as pd\n",
    "import numpy as np\n",
    "import requests\n",
    "import re\n",
    "import simplejson as json\n",
    "import plotly.express as px\n",
    "import plotly.graph_objects as go\n",
    "import Library as lib # Personal library of functions"
   ]
  },
  {
   "attachments": {},
   "cell_type": "markdown",
   "metadata": {},
   "source": [
    "- Set the API keys"
   ]
  },
  {
   "cell_type": "code",
   "execution_count": 2,
   "metadata": {},
   "outputs": [],
   "source": [
    "api_key_hubspot=\"pat-na1-3c7b0af9-bb66-40e7-a256-ce4c5eb27e81\"\n",
    "api_key_david=\"pat-na1-87c92179-b31b-43bf-bf42-f18beda31b79\"\n"
   ]
  },
  {
   "attachments": {},
   "cell_type": "markdown",
   "metadata": {},
   "source": [
    "## 1. Data Extraction"
   ]
  },
  {
   "attachments": {},
   "cell_type": "markdown",
   "metadata": {},
   "source": [
    "In this section, we will be using the `contactExtraction` function to extract the contact information from the Hubspot API. "
   ]
  },
  {
   "cell_type": "code",
   "execution_count": 3,
   "metadata": {},
   "outputs": [
    {
     "data": {
      "text/html": [
       "<div>\n",
       "<style scoped>\n",
       "    .dataframe tbody tr th:only-of-type {\n",
       "        vertical-align: middle;\n",
       "    }\n",
       "\n",
       "    .dataframe tbody tr th {\n",
       "        vertical-align: top;\n",
       "    }\n",
       "\n",
       "    .dataframe thead th {\n",
       "        text-align: right;\n",
       "    }\n",
       "</style>\n",
       "<table border=\"1\" class=\"dataframe\">\n",
       "  <thead>\n",
       "    <tr style=\"text-align: right;\">\n",
       "      <th></th>\n",
       "      <th>address</th>\n",
       "      <th>country</th>\n",
       "      <th>hs_object_id</th>\n",
       "      <th>industry</th>\n",
       "      <th>phone</th>\n",
       "      <th>raw_email</th>\n",
       "      <th>technical_test___create_date</th>\n",
       "    </tr>\n",
       "  </thead>\n",
       "  <tbody>\n",
       "    <tr>\n",
       "      <th>0</th>\n",
       "      <td>Blackpool  Rue, 6576</td>\n",
       "      <td>Waterford</td>\n",
       "      <td>416102</td>\n",
       "      <td>Poultry and fish</td>\n",
       "      <td>0-774-386-624</td>\n",
       "      <td>Zoe &lt;zoe_owen450104633@acrit.org&gt; Contact Info.</td>\n",
       "      <td>2021-07-13</td>\n",
       "    </tr>\n",
       "    <tr>\n",
       "      <th>1</th>\n",
       "      <td>Parkfield  Avenue, 5340</td>\n",
       "      <td>Ireland</td>\n",
       "      <td>413403</td>\n",
       "      <td>Fruit and vegetables</td>\n",
       "      <td>6-777-367-783</td>\n",
       "      <td>Zara &lt;zara_rodwell1398442854@nickia.com&gt; Conta...</td>\n",
       "      <td>2021-01-09</td>\n",
       "    </tr>\n",
       "    <tr>\n",
       "      <th>2</th>\n",
       "      <td>Abourne   Lane, 876</td>\n",
       "      <td>Ireland</td>\n",
       "      <td>417951</td>\n",
       "      <td>Milling</td>\n",
       "      <td>5-618-556-540</td>\n",
       "      <td>Zara &lt;zara_freeburn1593147546@gmail.com&gt; Conta...</td>\n",
       "      <td>2021-08-30</td>\n",
       "    </tr>\n",
       "    <tr>\n",
       "      <th>3</th>\n",
       "      <td>Chester      Crossroad, 7070</td>\n",
       "      <td>Dublin</td>\n",
       "      <td>419852</td>\n",
       "      <td>Dairy products</td>\n",
       "      <td>1-161-604-327</td>\n",
       "      <td>Winnie &lt;winnie_walter538064895@sheye.org&gt; Cont...</td>\n",
       "      <td>2021-02-10</td>\n",
       "    </tr>\n",
       "    <tr>\n",
       "      <th>4</th>\n",
       "      <td>Tilloch   Crossroad, 8332</td>\n",
       "      <td>Dublin</td>\n",
       "      <td>425352</td>\n",
       "      <td>Meat</td>\n",
       "      <td>5-645-416-200</td>\n",
       "      <td>Zoe &lt;zoe_owen1652446013@bungar.biz&gt; Contact Info.</td>\n",
       "      <td>2021-11-02</td>\n",
       "    </tr>\n",
       "    <tr>\n",
       "      <th>...</th>\n",
       "      <td>...</td>\n",
       "      <td>...</td>\n",
       "      <td>...</td>\n",
       "      <td>...</td>\n",
       "      <td>...</td>\n",
       "      <td>...</td>\n",
       "      <td>...</td>\n",
       "    </tr>\n",
       "    <tr>\n",
       "      <th>6931</th>\n",
       "      <td>Cato   Hill, 5704</td>\n",
       "      <td>Waterford</td>\n",
       "      <td>463801</td>\n",
       "      <td>Fruit and vegetables</td>\n",
       "      <td>2-301-310-740</td>\n",
       "      <td>Rhea &lt;rhea_grady231044837@deons.tech&gt; Contact ...</td>\n",
       "      <td>2021-04-24</td>\n",
       "    </tr>\n",
       "    <tr>\n",
       "      <th>6932</th>\n",
       "      <td>Howard Crossroad, 9998</td>\n",
       "      <td>London</td>\n",
       "      <td>454595</td>\n",
       "      <td>Bakery products</td>\n",
       "      <td>6-747-016-018</td>\n",
       "      <td>Hailey &lt;hailey_farrell934796609@brety.org&gt; Con...</td>\n",
       "      <td>2021-12-04</td>\n",
       "    </tr>\n",
       "    <tr>\n",
       "      <th>6933</th>\n",
       "      <td>Walnut Rue, 3859</td>\n",
       "      <td>Dublin</td>\n",
       "      <td>454631</td>\n",
       "      <td>Animal feeds</td>\n",
       "      <td>5-516-171-174</td>\n",
       "      <td>Caleb &lt;caleb_purvis1251615808@iatim.tech&gt; Cont...</td>\n",
       "      <td>2021-02-23</td>\n",
       "    </tr>\n",
       "    <tr>\n",
       "      <th>6934</th>\n",
       "      <td>Kimberley  Pass, 3455</td>\n",
       "      <td>Plymouth</td>\n",
       "      <td>457622</td>\n",
       "      <td>Bakery products</td>\n",
       "      <td>0-605-727-343</td>\n",
       "      <td>Gina &lt;gina_weasley83573127@naiker.biz&gt; Contact...</td>\n",
       "      <td>2021-10-02</td>\n",
       "    </tr>\n",
       "    <tr>\n",
       "      <th>6935</th>\n",
       "      <td>Yorkshire  Alley, 5843</td>\n",
       "      <td>Cork</td>\n",
       "      <td>461395</td>\n",
       "      <td>Fruit and vegetables</td>\n",
       "      <td>3-814-518-751</td>\n",
       "      <td>Aeris &lt;aeris_walsh769266811@gompie.com&gt; Contac...</td>\n",
       "      <td>2021-05-06</td>\n",
       "    </tr>\n",
       "  </tbody>\n",
       "</table>\n",
       "<p>6936 rows × 7 columns</p>\n",
       "</div>"
      ],
      "text/plain": [
       "                           address    country hs_object_id  \\\n",
       "0             Blackpool  Rue, 6576  Waterford       416102   \n",
       "1          Parkfield  Avenue, 5340    Ireland       413403   \n",
       "2              Abourne   Lane, 876    Ireland       417951   \n",
       "3     Chester      Crossroad, 7070     Dublin       419852   \n",
       "4        Tilloch   Crossroad, 8332     Dublin       425352   \n",
       "...                            ...        ...          ...   \n",
       "6931             Cato   Hill, 5704  Waterford       463801   \n",
       "6932        Howard Crossroad, 9998     London       454595   \n",
       "6933              Walnut Rue, 3859     Dublin       454631   \n",
       "6934         Kimberley  Pass, 3455   Plymouth       457622   \n",
       "6935        Yorkshire  Alley, 5843       Cork       461395   \n",
       "\n",
       "                  industry          phone  \\\n",
       "0         Poultry and fish  0-774-386-624   \n",
       "1     Fruit and vegetables  6-777-367-783   \n",
       "2                  Milling  5-618-556-540   \n",
       "3           Dairy products  1-161-604-327   \n",
       "4                     Meat  5-645-416-200   \n",
       "...                    ...            ...   \n",
       "6931  Fruit and vegetables  2-301-310-740   \n",
       "6932       Bakery products  6-747-016-018   \n",
       "6933          Animal feeds  5-516-171-174   \n",
       "6934       Bakery products  0-605-727-343   \n",
       "6935  Fruit and vegetables  3-814-518-751   \n",
       "\n",
       "                                              raw_email  \\\n",
       "0       Zoe <zoe_owen450104633@acrit.org> Contact Info.   \n",
       "1     Zara <zara_rodwell1398442854@nickia.com> Conta...   \n",
       "2     Zara <zara_freeburn1593147546@gmail.com> Conta...   \n",
       "3     Winnie <winnie_walter538064895@sheye.org> Cont...   \n",
       "4     Zoe <zoe_owen1652446013@bungar.biz> Contact Info.   \n",
       "...                                                 ...   \n",
       "6931  Rhea <rhea_grady231044837@deons.tech> Contact ...   \n",
       "6932  Hailey <hailey_farrell934796609@brety.org> Con...   \n",
       "6933  Caleb <caleb_purvis1251615808@iatim.tech> Cont...   \n",
       "6934  Gina <gina_weasley83573127@naiker.biz> Contact...   \n",
       "6935  Aeris <aeris_walsh769266811@gompie.com> Contac...   \n",
       "\n",
       "     technical_test___create_date  \n",
       "0                      2021-07-13  \n",
       "1                      2021-01-09  \n",
       "2                      2021-08-30  \n",
       "3                      2021-02-10  \n",
       "4                      2021-11-02  \n",
       "...                           ...  \n",
       "6931                   2021-04-24  \n",
       "6932                   2021-12-04  \n",
       "6933                   2021-02-23  \n",
       "6934                   2021-10-02  \n",
       "6935                   2021-05-06  \n",
       "\n",
       "[6936 rows x 7 columns]"
      ]
     },
     "execution_count": 3,
     "metadata": {},
     "output_type": "execute_result"
    }
   ],
   "source": [
    "df=lib.contactExtraction(api_key_hubspot)\n",
    "df"
   ]
  },
  {
   "attachments": {},
   "cell_type": "markdown",
   "metadata": {},
   "source": [
    "## 2. Data Transformation\n",
    "For this part, we will use the dataframe extracted in the previous part. We will transform the data with some functions to get the desired output.\n"
   ]
  },
  {
   "attachments": {},
   "cell_type": "markdown",
   "metadata": {},
   "source": [
    "### 2.1. Country and City Recognition\n",
    "We will use the function `recognition` in the module `countryRecognition` to recognize the country and the city of each contact and also, return a column with the tuple with the country and the city."
   ]
  },
  {
   "cell_type": "code",
   "execution_count": 4,
   "metadata": {},
   "outputs": [
    {
     "data": {
      "text/html": [
       "<div>\n",
       "<style scoped>\n",
       "    .dataframe tbody tr th:only-of-type {\n",
       "        vertical-align: middle;\n",
       "    }\n",
       "\n",
       "    .dataframe tbody tr th {\n",
       "        vertical-align: top;\n",
       "    }\n",
       "\n",
       "    .dataframe thead th {\n",
       "        text-align: right;\n",
       "    }\n",
       "</style>\n",
       "<table border=\"1\" class=\"dataframe\">\n",
       "  <thead>\n",
       "    <tr style=\"text-align: right;\">\n",
       "      <th></th>\n",
       "      <th>address</th>\n",
       "      <th>country</th>\n",
       "      <th>hs_object_id</th>\n",
       "      <th>industry</th>\n",
       "      <th>phone</th>\n",
       "      <th>raw_email</th>\n",
       "      <th>technical_test___create_date</th>\n",
       "      <th>city</th>\n",
       "      <th>countryTuple</th>\n",
       "    </tr>\n",
       "  </thead>\n",
       "  <tbody>\n",
       "    <tr>\n",
       "      <th>0</th>\n",
       "      <td>Blackpool  Rue, 6576</td>\n",
       "      <td>Ireland</td>\n",
       "      <td>416102</td>\n",
       "      <td>Poultry and fish</td>\n",
       "      <td>0-774-386-624</td>\n",
       "      <td>Zoe &lt;zoe_owen450104633@acrit.org&gt; Contact Info.</td>\n",
       "      <td>2021-07-13</td>\n",
       "      <td>Waterford</td>\n",
       "      <td>(Ireland, Waterford)</td>\n",
       "    </tr>\n",
       "    <tr>\n",
       "      <th>1</th>\n",
       "      <td>Parkfield  Avenue, 5340</td>\n",
       "      <td>Ireland</td>\n",
       "      <td>413403</td>\n",
       "      <td>Fruit and vegetables</td>\n",
       "      <td>6-777-367-783</td>\n",
       "      <td>Zara &lt;zara_rodwell1398442854@nickia.com&gt; Conta...</td>\n",
       "      <td>2021-01-09</td>\n",
       "      <td>NaN</td>\n",
       "      <td>(Ireland, nan)</td>\n",
       "    </tr>\n",
       "    <tr>\n",
       "      <th>2</th>\n",
       "      <td>Abourne   Lane, 876</td>\n",
       "      <td>Ireland</td>\n",
       "      <td>417951</td>\n",
       "      <td>Milling</td>\n",
       "      <td>5-618-556-540</td>\n",
       "      <td>Zara &lt;zara_freeburn1593147546@gmail.com&gt; Conta...</td>\n",
       "      <td>2021-08-30</td>\n",
       "      <td>NaN</td>\n",
       "      <td>(Ireland, nan)</td>\n",
       "    </tr>\n",
       "    <tr>\n",
       "      <th>3</th>\n",
       "      <td>Chester      Crossroad, 7070</td>\n",
       "      <td>Ireland</td>\n",
       "      <td>419852</td>\n",
       "      <td>Dairy products</td>\n",
       "      <td>1-161-604-327</td>\n",
       "      <td>Winnie &lt;winnie_walter538064895@sheye.org&gt; Cont...</td>\n",
       "      <td>2021-02-10</td>\n",
       "      <td>Dublin</td>\n",
       "      <td>(Ireland, Dublin)</td>\n",
       "    </tr>\n",
       "    <tr>\n",
       "      <th>4</th>\n",
       "      <td>Tilloch   Crossroad, 8332</td>\n",
       "      <td>Ireland</td>\n",
       "      <td>425352</td>\n",
       "      <td>Meat</td>\n",
       "      <td>5-645-416-200</td>\n",
       "      <td>Zoe &lt;zoe_owen1652446013@bungar.biz&gt; Contact Info.</td>\n",
       "      <td>2021-11-02</td>\n",
       "      <td>Dublin</td>\n",
       "      <td>(Ireland, Dublin)</td>\n",
       "    </tr>\n",
       "    <tr>\n",
       "      <th>...</th>\n",
       "      <td>...</td>\n",
       "      <td>...</td>\n",
       "      <td>...</td>\n",
       "      <td>...</td>\n",
       "      <td>...</td>\n",
       "      <td>...</td>\n",
       "      <td>...</td>\n",
       "      <td>...</td>\n",
       "      <td>...</td>\n",
       "    </tr>\n",
       "    <tr>\n",
       "      <th>6931</th>\n",
       "      <td>Cato   Hill, 5704</td>\n",
       "      <td>Ireland</td>\n",
       "      <td>463801</td>\n",
       "      <td>Fruit and vegetables</td>\n",
       "      <td>2-301-310-740</td>\n",
       "      <td>Rhea &lt;rhea_grady231044837@deons.tech&gt; Contact ...</td>\n",
       "      <td>2021-04-24</td>\n",
       "      <td>Waterford</td>\n",
       "      <td>(Ireland, Waterford)</td>\n",
       "    </tr>\n",
       "    <tr>\n",
       "      <th>6932</th>\n",
       "      <td>Howard Crossroad, 9998</td>\n",
       "      <td>England</td>\n",
       "      <td>454595</td>\n",
       "      <td>Bakery products</td>\n",
       "      <td>6-747-016-018</td>\n",
       "      <td>Hailey &lt;hailey_farrell934796609@brety.org&gt; Con...</td>\n",
       "      <td>2021-12-04</td>\n",
       "      <td>London</td>\n",
       "      <td>(England, London)</td>\n",
       "    </tr>\n",
       "    <tr>\n",
       "      <th>6933</th>\n",
       "      <td>Walnut Rue, 3859</td>\n",
       "      <td>Ireland</td>\n",
       "      <td>454631</td>\n",
       "      <td>Animal feeds</td>\n",
       "      <td>5-516-171-174</td>\n",
       "      <td>Caleb &lt;caleb_purvis1251615808@iatim.tech&gt; Cont...</td>\n",
       "      <td>2021-02-23</td>\n",
       "      <td>Dublin</td>\n",
       "      <td>(Ireland, Dublin)</td>\n",
       "    </tr>\n",
       "    <tr>\n",
       "      <th>6934</th>\n",
       "      <td>Kimberley  Pass, 3455</td>\n",
       "      <td>England</td>\n",
       "      <td>457622</td>\n",
       "      <td>Bakery products</td>\n",
       "      <td>0-605-727-343</td>\n",
       "      <td>Gina &lt;gina_weasley83573127@naiker.biz&gt; Contact...</td>\n",
       "      <td>2021-10-02</td>\n",
       "      <td>Plymouth</td>\n",
       "      <td>(England, Plymouth)</td>\n",
       "    </tr>\n",
       "    <tr>\n",
       "      <th>6935</th>\n",
       "      <td>Yorkshire  Alley, 5843</td>\n",
       "      <td>Ireland</td>\n",
       "      <td>461395</td>\n",
       "      <td>Fruit and vegetables</td>\n",
       "      <td>3-814-518-751</td>\n",
       "      <td>Aeris &lt;aeris_walsh769266811@gompie.com&gt; Contac...</td>\n",
       "      <td>2021-05-06</td>\n",
       "      <td>Cork</td>\n",
       "      <td>(Ireland, Cork)</td>\n",
       "    </tr>\n",
       "  </tbody>\n",
       "</table>\n",
       "<p>6936 rows × 9 columns</p>\n",
       "</div>"
      ],
      "text/plain": [
       "                           address  country hs_object_id  \\\n",
       "0             Blackpool  Rue, 6576  Ireland       416102   \n",
       "1          Parkfield  Avenue, 5340  Ireland       413403   \n",
       "2              Abourne   Lane, 876  Ireland       417951   \n",
       "3     Chester      Crossroad, 7070  Ireland       419852   \n",
       "4        Tilloch   Crossroad, 8332  Ireland       425352   \n",
       "...                            ...      ...          ...   \n",
       "6931             Cato   Hill, 5704  Ireland       463801   \n",
       "6932        Howard Crossroad, 9998  England       454595   \n",
       "6933              Walnut Rue, 3859  Ireland       454631   \n",
       "6934         Kimberley  Pass, 3455  England       457622   \n",
       "6935        Yorkshire  Alley, 5843  Ireland       461395   \n",
       "\n",
       "                  industry          phone  \\\n",
       "0         Poultry and fish  0-774-386-624   \n",
       "1     Fruit and vegetables  6-777-367-783   \n",
       "2                  Milling  5-618-556-540   \n",
       "3           Dairy products  1-161-604-327   \n",
       "4                     Meat  5-645-416-200   \n",
       "...                    ...            ...   \n",
       "6931  Fruit and vegetables  2-301-310-740   \n",
       "6932       Bakery products  6-747-016-018   \n",
       "6933          Animal feeds  5-516-171-174   \n",
       "6934       Bakery products  0-605-727-343   \n",
       "6935  Fruit and vegetables  3-814-518-751   \n",
       "\n",
       "                                              raw_email  \\\n",
       "0       Zoe <zoe_owen450104633@acrit.org> Contact Info.   \n",
       "1     Zara <zara_rodwell1398442854@nickia.com> Conta...   \n",
       "2     Zara <zara_freeburn1593147546@gmail.com> Conta...   \n",
       "3     Winnie <winnie_walter538064895@sheye.org> Cont...   \n",
       "4     Zoe <zoe_owen1652446013@bungar.biz> Contact Info.   \n",
       "...                                                 ...   \n",
       "6931  Rhea <rhea_grady231044837@deons.tech> Contact ...   \n",
       "6932  Hailey <hailey_farrell934796609@brety.org> Con...   \n",
       "6933  Caleb <caleb_purvis1251615808@iatim.tech> Cont...   \n",
       "6934  Gina <gina_weasley83573127@naiker.biz> Contact...   \n",
       "6935  Aeris <aeris_walsh769266811@gompie.com> Contac...   \n",
       "\n",
       "     technical_test___create_date       city          countryTuple  \n",
       "0                      2021-07-13  Waterford  (Ireland, Waterford)  \n",
       "1                      2021-01-09        NaN        (Ireland, nan)  \n",
       "2                      2021-08-30        NaN        (Ireland, nan)  \n",
       "3                      2021-02-10     Dublin     (Ireland, Dublin)  \n",
       "4                      2021-11-02     Dublin     (Ireland, Dublin)  \n",
       "...                           ...        ...                   ...  \n",
       "6931                   2021-04-24  Waterford  (Ireland, Waterford)  \n",
       "6932                   2021-12-04     London     (England, London)  \n",
       "6933                   2021-02-23     Dublin     (Ireland, Dublin)  \n",
       "6934                   2021-10-02   Plymouth   (England, Plymouth)  \n",
       "6935                   2021-05-06       Cork       (Ireland, Cork)  \n",
       "\n",
       "[6936 rows x 9 columns]"
      ]
     },
     "execution_count": 4,
     "metadata": {},
     "output_type": "execute_result"
    }
   ],
   "source": [
    "df=lib.recognition(df)\n",
    "df"
   ]
  },
  {
   "attachments": {},
   "cell_type": "markdown",
   "metadata": {},
   "source": [
    "#### 2.2. Found Email\n",
    "In the following section, we will be using the data from the previous section to extract the email from raw_email."
   ]
  },
  {
   "cell_type": "code",
   "execution_count": 5,
   "metadata": {},
   "outputs": [
    {
     "data": {
      "text/html": [
       "<div>\n",
       "<style scoped>\n",
       "    .dataframe tbody tr th:only-of-type {\n",
       "        vertical-align: middle;\n",
       "    }\n",
       "\n",
       "    .dataframe tbody tr th {\n",
       "        vertical-align: top;\n",
       "    }\n",
       "\n",
       "    .dataframe thead th {\n",
       "        text-align: right;\n",
       "    }\n",
       "</style>\n",
       "<table border=\"1\" class=\"dataframe\">\n",
       "  <thead>\n",
       "    <tr style=\"text-align: right;\">\n",
       "      <th></th>\n",
       "      <th>address</th>\n",
       "      <th>country</th>\n",
       "      <th>hs_object_id</th>\n",
       "      <th>industry</th>\n",
       "      <th>phone</th>\n",
       "      <th>raw_email</th>\n",
       "      <th>technical_test___create_date</th>\n",
       "      <th>city</th>\n",
       "      <th>countryTuple</th>\n",
       "    </tr>\n",
       "  </thead>\n",
       "  <tbody>\n",
       "    <tr>\n",
       "      <th>0</th>\n",
       "      <td>Blackpool  Rue, 6576</td>\n",
       "      <td>Ireland</td>\n",
       "      <td>416102</td>\n",
       "      <td>Poultry and fish</td>\n",
       "      <td>0-774-386-624</td>\n",
       "      <td>zoe_owen450104633@acrit.org</td>\n",
       "      <td>2021-07-13</td>\n",
       "      <td>Waterford</td>\n",
       "      <td>(Ireland, Waterford)</td>\n",
       "    </tr>\n",
       "    <tr>\n",
       "      <th>1</th>\n",
       "      <td>Parkfield  Avenue, 5340</td>\n",
       "      <td>Ireland</td>\n",
       "      <td>413403</td>\n",
       "      <td>Fruit and vegetables</td>\n",
       "      <td>6-777-367-783</td>\n",
       "      <td>zara_rodwell1398442854@nickia.com</td>\n",
       "      <td>2021-01-09</td>\n",
       "      <td>NaN</td>\n",
       "      <td>(Ireland, nan)</td>\n",
       "    </tr>\n",
       "    <tr>\n",
       "      <th>2</th>\n",
       "      <td>Abourne   Lane, 876</td>\n",
       "      <td>Ireland</td>\n",
       "      <td>417951</td>\n",
       "      <td>Milling</td>\n",
       "      <td>5-618-556-540</td>\n",
       "      <td>zara_freeburn1593147546@gmail.com</td>\n",
       "      <td>2021-08-30</td>\n",
       "      <td>NaN</td>\n",
       "      <td>(Ireland, nan)</td>\n",
       "    </tr>\n",
       "    <tr>\n",
       "      <th>3</th>\n",
       "      <td>Chester      Crossroad, 7070</td>\n",
       "      <td>Ireland</td>\n",
       "      <td>419852</td>\n",
       "      <td>Dairy products</td>\n",
       "      <td>1-161-604-327</td>\n",
       "      <td>winnie_walter538064895@sheye.org</td>\n",
       "      <td>2021-02-10</td>\n",
       "      <td>Dublin</td>\n",
       "      <td>(Ireland, Dublin)</td>\n",
       "    </tr>\n",
       "    <tr>\n",
       "      <th>4</th>\n",
       "      <td>Tilloch   Crossroad, 8332</td>\n",
       "      <td>Ireland</td>\n",
       "      <td>425352</td>\n",
       "      <td>Meat</td>\n",
       "      <td>5-645-416-200</td>\n",
       "      <td>zoe_owen1652446013@bungar.biz</td>\n",
       "      <td>2021-11-02</td>\n",
       "      <td>Dublin</td>\n",
       "      <td>(Ireland, Dublin)</td>\n",
       "    </tr>\n",
       "    <tr>\n",
       "      <th>...</th>\n",
       "      <td>...</td>\n",
       "      <td>...</td>\n",
       "      <td>...</td>\n",
       "      <td>...</td>\n",
       "      <td>...</td>\n",
       "      <td>...</td>\n",
       "      <td>...</td>\n",
       "      <td>...</td>\n",
       "      <td>...</td>\n",
       "    </tr>\n",
       "    <tr>\n",
       "      <th>6931</th>\n",
       "      <td>Cato   Hill, 5704</td>\n",
       "      <td>Ireland</td>\n",
       "      <td>463801</td>\n",
       "      <td>Fruit and vegetables</td>\n",
       "      <td>2-301-310-740</td>\n",
       "      <td>rhea_grady231044837@deons.tech</td>\n",
       "      <td>2021-04-24</td>\n",
       "      <td>Waterford</td>\n",
       "      <td>(Ireland, Waterford)</td>\n",
       "    </tr>\n",
       "    <tr>\n",
       "      <th>6932</th>\n",
       "      <td>Howard Crossroad, 9998</td>\n",
       "      <td>England</td>\n",
       "      <td>454595</td>\n",
       "      <td>Bakery products</td>\n",
       "      <td>6-747-016-018</td>\n",
       "      <td>hailey_farrell934796609@brety.org</td>\n",
       "      <td>2021-12-04</td>\n",
       "      <td>London</td>\n",
       "      <td>(England, London)</td>\n",
       "    </tr>\n",
       "    <tr>\n",
       "      <th>6933</th>\n",
       "      <td>Walnut Rue, 3859</td>\n",
       "      <td>Ireland</td>\n",
       "      <td>454631</td>\n",
       "      <td>Animal feeds</td>\n",
       "      <td>5-516-171-174</td>\n",
       "      <td>caleb_purvis1251615808@iatim.tech</td>\n",
       "      <td>2021-02-23</td>\n",
       "      <td>Dublin</td>\n",
       "      <td>(Ireland, Dublin)</td>\n",
       "    </tr>\n",
       "    <tr>\n",
       "      <th>6934</th>\n",
       "      <td>Kimberley  Pass, 3455</td>\n",
       "      <td>England</td>\n",
       "      <td>457622</td>\n",
       "      <td>Bakery products</td>\n",
       "      <td>0-605-727-343</td>\n",
       "      <td>gina_weasley83573127@naiker.biz</td>\n",
       "      <td>2021-10-02</td>\n",
       "      <td>Plymouth</td>\n",
       "      <td>(England, Plymouth)</td>\n",
       "    </tr>\n",
       "    <tr>\n",
       "      <th>6935</th>\n",
       "      <td>Yorkshire  Alley, 5843</td>\n",
       "      <td>Ireland</td>\n",
       "      <td>461395</td>\n",
       "      <td>Fruit and vegetables</td>\n",
       "      <td>3-814-518-751</td>\n",
       "      <td>aeris_walsh769266811@gompie.com</td>\n",
       "      <td>2021-05-06</td>\n",
       "      <td>Cork</td>\n",
       "      <td>(Ireland, Cork)</td>\n",
       "    </tr>\n",
       "  </tbody>\n",
       "</table>\n",
       "<p>6936 rows × 9 columns</p>\n",
       "</div>"
      ],
      "text/plain": [
       "                           address  country hs_object_id  \\\n",
       "0             Blackpool  Rue, 6576  Ireland       416102   \n",
       "1          Parkfield  Avenue, 5340  Ireland       413403   \n",
       "2              Abourne   Lane, 876  Ireland       417951   \n",
       "3     Chester      Crossroad, 7070  Ireland       419852   \n",
       "4        Tilloch   Crossroad, 8332  Ireland       425352   \n",
       "...                            ...      ...          ...   \n",
       "6931             Cato   Hill, 5704  Ireland       463801   \n",
       "6932        Howard Crossroad, 9998  England       454595   \n",
       "6933              Walnut Rue, 3859  Ireland       454631   \n",
       "6934         Kimberley  Pass, 3455  England       457622   \n",
       "6935        Yorkshire  Alley, 5843  Ireland       461395   \n",
       "\n",
       "                  industry          phone                          raw_email  \\\n",
       "0         Poultry and fish  0-774-386-624        zoe_owen450104633@acrit.org   \n",
       "1     Fruit and vegetables  6-777-367-783  zara_rodwell1398442854@nickia.com   \n",
       "2                  Milling  5-618-556-540  zara_freeburn1593147546@gmail.com   \n",
       "3           Dairy products  1-161-604-327   winnie_walter538064895@sheye.org   \n",
       "4                     Meat  5-645-416-200      zoe_owen1652446013@bungar.biz   \n",
       "...                    ...            ...                                ...   \n",
       "6931  Fruit and vegetables  2-301-310-740     rhea_grady231044837@deons.tech   \n",
       "6932       Bakery products  6-747-016-018  hailey_farrell934796609@brety.org   \n",
       "6933          Animal feeds  5-516-171-174  caleb_purvis1251615808@iatim.tech   \n",
       "6934       Bakery products  0-605-727-343    gina_weasley83573127@naiker.biz   \n",
       "6935  Fruit and vegetables  3-814-518-751    aeris_walsh769266811@gompie.com   \n",
       "\n",
       "     technical_test___create_date       city          countryTuple  \n",
       "0                      2021-07-13  Waterford  (Ireland, Waterford)  \n",
       "1                      2021-01-09        NaN        (Ireland, nan)  \n",
       "2                      2021-08-30        NaN        (Ireland, nan)  \n",
       "3                      2021-02-10     Dublin     (Ireland, Dublin)  \n",
       "4                      2021-11-02     Dublin     (Ireland, Dublin)  \n",
       "...                           ...        ...                   ...  \n",
       "6931                   2021-04-24  Waterford  (Ireland, Waterford)  \n",
       "6932                   2021-12-04     London     (England, London)  \n",
       "6933                   2021-02-23     Dublin     (Ireland, Dublin)  \n",
       "6934                   2021-10-02   Plymouth   (England, Plymouth)  \n",
       "6935                   2021-05-06       Cork       (Ireland, Cork)  \n",
       "\n",
       "[6936 rows x 9 columns]"
      ]
     },
     "execution_count": 5,
     "metadata": {},
     "output_type": "execute_result"
    }
   ],
   "source": [
    "df=lib.emailExtraction(df)\n",
    "df"
   ]
  },
  {
   "attachments": {},
   "cell_type": "markdown",
   "metadata": {},
   "source": [
    "#### 2.3. Fix the phone numbers\n",
    "For this part the phone numbers are going to be arange in certain format *(+XXX) XXXX XXXXXX*"
   ]
  },
  {
   "cell_type": "code",
   "execution_count": 6,
   "metadata": {},
   "outputs": [
    {
     "data": {
      "text/html": [
       "<div>\n",
       "<style scoped>\n",
       "    .dataframe tbody tr th:only-of-type {\n",
       "        vertical-align: middle;\n",
       "    }\n",
       "\n",
       "    .dataframe tbody tr th {\n",
       "        vertical-align: top;\n",
       "    }\n",
       "\n",
       "    .dataframe thead th {\n",
       "        text-align: right;\n",
       "    }\n",
       "</style>\n",
       "<table border=\"1\" class=\"dataframe\">\n",
       "  <thead>\n",
       "    <tr style=\"text-align: right;\">\n",
       "      <th></th>\n",
       "      <th>address</th>\n",
       "      <th>country</th>\n",
       "      <th>hs_object_id</th>\n",
       "      <th>industry</th>\n",
       "      <th>phone</th>\n",
       "      <th>raw_email</th>\n",
       "      <th>technical_test___create_date</th>\n",
       "      <th>city</th>\n",
       "      <th>countryTuple</th>\n",
       "    </tr>\n",
       "  </thead>\n",
       "  <tbody>\n",
       "    <tr>\n",
       "      <th>0</th>\n",
       "      <td>Blackpool  Rue, 6576</td>\n",
       "      <td>Ireland</td>\n",
       "      <td>416102</td>\n",
       "      <td>Poultry and fish</td>\n",
       "      <td>(+44) 7743 86624</td>\n",
       "      <td>zoe_owen450104633@acrit.org</td>\n",
       "      <td>2021-07-13</td>\n",
       "      <td>Waterford</td>\n",
       "      <td>(Ireland, Waterford)</td>\n",
       "    </tr>\n",
       "    <tr>\n",
       "      <th>1</th>\n",
       "      <td>Parkfield  Avenue, 5340</td>\n",
       "      <td>Ireland</td>\n",
       "      <td>413403</td>\n",
       "      <td>Fruit and vegetables</td>\n",
       "      <td>(+44) 6777 367783</td>\n",
       "      <td>zara_rodwell1398442854@nickia.com</td>\n",
       "      <td>2021-01-09</td>\n",
       "      <td>NaN</td>\n",
       "      <td>(Ireland, nan)</td>\n",
       "    </tr>\n",
       "    <tr>\n",
       "      <th>2</th>\n",
       "      <td>Abourne   Lane, 876</td>\n",
       "      <td>Ireland</td>\n",
       "      <td>417951</td>\n",
       "      <td>Milling</td>\n",
       "      <td>(+44) 5618 556540</td>\n",
       "      <td>zara_freeburn1593147546@gmail.com</td>\n",
       "      <td>2021-08-30</td>\n",
       "      <td>NaN</td>\n",
       "      <td>(Ireland, nan)</td>\n",
       "    </tr>\n",
       "    <tr>\n",
       "      <th>3</th>\n",
       "      <td>Chester      Crossroad, 7070</td>\n",
       "      <td>Ireland</td>\n",
       "      <td>419852</td>\n",
       "      <td>Dairy products</td>\n",
       "      <td>(+44) 1161 604327</td>\n",
       "      <td>winnie_walter538064895@sheye.org</td>\n",
       "      <td>2021-02-10</td>\n",
       "      <td>Dublin</td>\n",
       "      <td>(Ireland, Dublin)</td>\n",
       "    </tr>\n",
       "    <tr>\n",
       "      <th>4</th>\n",
       "      <td>Tilloch   Crossroad, 8332</td>\n",
       "      <td>Ireland</td>\n",
       "      <td>425352</td>\n",
       "      <td>Meat</td>\n",
       "      <td>(+44) 5645 416200</td>\n",
       "      <td>zoe_owen1652446013@bungar.biz</td>\n",
       "      <td>2021-11-02</td>\n",
       "      <td>Dublin</td>\n",
       "      <td>(Ireland, Dublin)</td>\n",
       "    </tr>\n",
       "    <tr>\n",
       "      <th>...</th>\n",
       "      <td>...</td>\n",
       "      <td>...</td>\n",
       "      <td>...</td>\n",
       "      <td>...</td>\n",
       "      <td>...</td>\n",
       "      <td>...</td>\n",
       "      <td>...</td>\n",
       "      <td>...</td>\n",
       "      <td>...</td>\n",
       "    </tr>\n",
       "    <tr>\n",
       "      <th>6931</th>\n",
       "      <td>Cato   Hill, 5704</td>\n",
       "      <td>Ireland</td>\n",
       "      <td>463801</td>\n",
       "      <td>Fruit and vegetables</td>\n",
       "      <td>(+44) 2301 310740</td>\n",
       "      <td>rhea_grady231044837@deons.tech</td>\n",
       "      <td>2021-04-24</td>\n",
       "      <td>Waterford</td>\n",
       "      <td>(Ireland, Waterford)</td>\n",
       "    </tr>\n",
       "    <tr>\n",
       "      <th>6932</th>\n",
       "      <td>Howard Crossroad, 9998</td>\n",
       "      <td>England</td>\n",
       "      <td>454595</td>\n",
       "      <td>Bakery products</td>\n",
       "      <td>(+44) 6747 016018</td>\n",
       "      <td>hailey_farrell934796609@brety.org</td>\n",
       "      <td>2021-12-04</td>\n",
       "      <td>London</td>\n",
       "      <td>(England, London)</td>\n",
       "    </tr>\n",
       "    <tr>\n",
       "      <th>6933</th>\n",
       "      <td>Walnut Rue, 3859</td>\n",
       "      <td>Ireland</td>\n",
       "      <td>454631</td>\n",
       "      <td>Animal feeds</td>\n",
       "      <td>(+44) 5516 171174</td>\n",
       "      <td>caleb_purvis1251615808@iatim.tech</td>\n",
       "      <td>2021-02-23</td>\n",
       "      <td>Dublin</td>\n",
       "      <td>(Ireland, Dublin)</td>\n",
       "    </tr>\n",
       "    <tr>\n",
       "      <th>6934</th>\n",
       "      <td>Kimberley  Pass, 3455</td>\n",
       "      <td>England</td>\n",
       "      <td>457622</td>\n",
       "      <td>Bakery products</td>\n",
       "      <td>(+44) 6057 27343</td>\n",
       "      <td>gina_weasley83573127@naiker.biz</td>\n",
       "      <td>2021-10-02</td>\n",
       "      <td>Plymouth</td>\n",
       "      <td>(England, Plymouth)</td>\n",
       "    </tr>\n",
       "    <tr>\n",
       "      <th>6935</th>\n",
       "      <td>Yorkshire  Alley, 5843</td>\n",
       "      <td>Ireland</td>\n",
       "      <td>461395</td>\n",
       "      <td>Fruit and vegetables</td>\n",
       "      <td>(+44) 3814 518751</td>\n",
       "      <td>aeris_walsh769266811@gompie.com</td>\n",
       "      <td>2021-05-06</td>\n",
       "      <td>Cork</td>\n",
       "      <td>(Ireland, Cork)</td>\n",
       "    </tr>\n",
       "  </tbody>\n",
       "</table>\n",
       "<p>6936 rows × 9 columns</p>\n",
       "</div>"
      ],
      "text/plain": [
       "                           address  country hs_object_id  \\\n",
       "0             Blackpool  Rue, 6576  Ireland       416102   \n",
       "1          Parkfield  Avenue, 5340  Ireland       413403   \n",
       "2              Abourne   Lane, 876  Ireland       417951   \n",
       "3     Chester      Crossroad, 7070  Ireland       419852   \n",
       "4        Tilloch   Crossroad, 8332  Ireland       425352   \n",
       "...                            ...      ...          ...   \n",
       "6931             Cato   Hill, 5704  Ireland       463801   \n",
       "6932        Howard Crossroad, 9998  England       454595   \n",
       "6933              Walnut Rue, 3859  Ireland       454631   \n",
       "6934         Kimberley  Pass, 3455  England       457622   \n",
       "6935        Yorkshire  Alley, 5843  Ireland       461395   \n",
       "\n",
       "                  industry              phone  \\\n",
       "0         Poultry and fish   (+44) 7743 86624   \n",
       "1     Fruit and vegetables  (+44) 6777 367783   \n",
       "2                  Milling  (+44) 5618 556540   \n",
       "3           Dairy products  (+44) 1161 604327   \n",
       "4                     Meat  (+44) 5645 416200   \n",
       "...                    ...                ...   \n",
       "6931  Fruit and vegetables  (+44) 2301 310740   \n",
       "6932       Bakery products  (+44) 6747 016018   \n",
       "6933          Animal feeds  (+44) 5516 171174   \n",
       "6934       Bakery products   (+44) 6057 27343   \n",
       "6935  Fruit and vegetables  (+44) 3814 518751   \n",
       "\n",
       "                              raw_email technical_test___create_date  \\\n",
       "0           zoe_owen450104633@acrit.org                   2021-07-13   \n",
       "1     zara_rodwell1398442854@nickia.com                   2021-01-09   \n",
       "2     zara_freeburn1593147546@gmail.com                   2021-08-30   \n",
       "3      winnie_walter538064895@sheye.org                   2021-02-10   \n",
       "4         zoe_owen1652446013@bungar.biz                   2021-11-02   \n",
       "...                                 ...                          ...   \n",
       "6931     rhea_grady231044837@deons.tech                   2021-04-24   \n",
       "6932  hailey_farrell934796609@brety.org                   2021-12-04   \n",
       "6933  caleb_purvis1251615808@iatim.tech                   2021-02-23   \n",
       "6934    gina_weasley83573127@naiker.biz                   2021-10-02   \n",
       "6935    aeris_walsh769266811@gompie.com                   2021-05-06   \n",
       "\n",
       "           city          countryTuple  \n",
       "0     Waterford  (Ireland, Waterford)  \n",
       "1           NaN        (Ireland, nan)  \n",
       "2           NaN        (Ireland, nan)  \n",
       "3        Dublin     (Ireland, Dublin)  \n",
       "4        Dublin     (Ireland, Dublin)  \n",
       "...         ...                   ...  \n",
       "6931  Waterford  (Ireland, Waterford)  \n",
       "6932     London     (England, London)  \n",
       "6933     Dublin     (Ireland, Dublin)  \n",
       "6934   Plymouth   (England, Plymouth)  \n",
       "6935       Cork       (Ireland, Cork)  \n",
       "\n",
       "[6936 rows x 9 columns]"
      ]
     },
     "execution_count": 6,
     "metadata": {},
     "output_type": "execute_result"
    }
   ],
   "source": [
    "df=lib.fixPhoneNumber(df)\n",
    "df"
   ]
  },
  {
   "attachments": {},
   "cell_type": "markdown",
   "metadata": {},
   "source": [
    "- Now, we proceed to drop the contacts with no email, because according to the [CRM Contact Hubspot](https://developers.hubspot.com/docs/api/crm/contacts) \"*It is recommended to always include email, because email address is the primary unique identifier  to avoid duplicate contacts in HubSpot.*\", so, the best option is to drop them. In a real-life situation, the best options would be to work with the client to evaluate the best way to proceed."
   ]
  },
  {
   "cell_type": "code",
   "execution_count": 7,
   "metadata": {},
   "outputs": [
    {
     "data": {
      "text/html": [
       "<div>\n",
       "<style scoped>\n",
       "    .dataframe tbody tr th:only-of-type {\n",
       "        vertical-align: middle;\n",
       "    }\n",
       "\n",
       "    .dataframe tbody tr th {\n",
       "        vertical-align: top;\n",
       "    }\n",
       "\n",
       "    .dataframe thead th {\n",
       "        text-align: right;\n",
       "    }\n",
       "</style>\n",
       "<table border=\"1\" class=\"dataframe\">\n",
       "  <thead>\n",
       "    <tr style=\"text-align: right;\">\n",
       "      <th></th>\n",
       "      <th>address</th>\n",
       "      <th>country</th>\n",
       "      <th>hs_object_id</th>\n",
       "      <th>industry</th>\n",
       "      <th>phone</th>\n",
       "      <th>raw_email</th>\n",
       "      <th>technical_test___create_date</th>\n",
       "      <th>city</th>\n",
       "      <th>countryTuple</th>\n",
       "    </tr>\n",
       "  </thead>\n",
       "  <tbody>\n",
       "    <tr>\n",
       "      <th>0</th>\n",
       "      <td>Blackpool  Rue, 6576</td>\n",
       "      <td>Ireland</td>\n",
       "      <td>416102</td>\n",
       "      <td>Poultry and fish</td>\n",
       "      <td>(+44) 7743 86624</td>\n",
       "      <td>zoe_owen450104633@acrit.org</td>\n",
       "      <td>2021-07-13</td>\n",
       "      <td>Waterford</td>\n",
       "      <td>(Ireland, Waterford)</td>\n",
       "    </tr>\n",
       "    <tr>\n",
       "      <th>1</th>\n",
       "      <td>Parkfield  Avenue, 5340</td>\n",
       "      <td>Ireland</td>\n",
       "      <td>413403</td>\n",
       "      <td>Fruit and vegetables</td>\n",
       "      <td>(+44) 6777 367783</td>\n",
       "      <td>zara_rodwell1398442854@nickia.com</td>\n",
       "      <td>2021-01-09</td>\n",
       "      <td>NaN</td>\n",
       "      <td>(Ireland, nan)</td>\n",
       "    </tr>\n",
       "    <tr>\n",
       "      <th>2</th>\n",
       "      <td>Abourne   Lane, 876</td>\n",
       "      <td>Ireland</td>\n",
       "      <td>417951</td>\n",
       "      <td>Milling</td>\n",
       "      <td>(+44) 5618 556540</td>\n",
       "      <td>zara_freeburn1593147546@gmail.com</td>\n",
       "      <td>2021-08-30</td>\n",
       "      <td>NaN</td>\n",
       "      <td>(Ireland, nan)</td>\n",
       "    </tr>\n",
       "    <tr>\n",
       "      <th>3</th>\n",
       "      <td>Chester      Crossroad, 7070</td>\n",
       "      <td>Ireland</td>\n",
       "      <td>419852</td>\n",
       "      <td>Dairy products</td>\n",
       "      <td>(+44) 1161 604327</td>\n",
       "      <td>winnie_walter538064895@sheye.org</td>\n",
       "      <td>2021-02-10</td>\n",
       "      <td>Dublin</td>\n",
       "      <td>(Ireland, Dublin)</td>\n",
       "    </tr>\n",
       "    <tr>\n",
       "      <th>4</th>\n",
       "      <td>Tilloch   Crossroad, 8332</td>\n",
       "      <td>Ireland</td>\n",
       "      <td>425352</td>\n",
       "      <td>Meat</td>\n",
       "      <td>(+44) 5645 416200</td>\n",
       "      <td>zoe_owen1652446013@bungar.biz</td>\n",
       "      <td>2021-11-02</td>\n",
       "      <td>Dublin</td>\n",
       "      <td>(Ireland, Dublin)</td>\n",
       "    </tr>\n",
       "    <tr>\n",
       "      <th>...</th>\n",
       "      <td>...</td>\n",
       "      <td>...</td>\n",
       "      <td>...</td>\n",
       "      <td>...</td>\n",
       "      <td>...</td>\n",
       "      <td>...</td>\n",
       "      <td>...</td>\n",
       "      <td>...</td>\n",
       "      <td>...</td>\n",
       "    </tr>\n",
       "    <tr>\n",
       "      <th>6931</th>\n",
       "      <td>Cato   Hill, 5704</td>\n",
       "      <td>Ireland</td>\n",
       "      <td>463801</td>\n",
       "      <td>Fruit and vegetables</td>\n",
       "      <td>(+44) 2301 310740</td>\n",
       "      <td>rhea_grady231044837@deons.tech</td>\n",
       "      <td>2021-04-24</td>\n",
       "      <td>Waterford</td>\n",
       "      <td>(Ireland, Waterford)</td>\n",
       "    </tr>\n",
       "    <tr>\n",
       "      <th>6932</th>\n",
       "      <td>Howard Crossroad, 9998</td>\n",
       "      <td>England</td>\n",
       "      <td>454595</td>\n",
       "      <td>Bakery products</td>\n",
       "      <td>(+44) 6747 016018</td>\n",
       "      <td>hailey_farrell934796609@brety.org</td>\n",
       "      <td>2021-12-04</td>\n",
       "      <td>London</td>\n",
       "      <td>(England, London)</td>\n",
       "    </tr>\n",
       "    <tr>\n",
       "      <th>6933</th>\n",
       "      <td>Walnut Rue, 3859</td>\n",
       "      <td>Ireland</td>\n",
       "      <td>454631</td>\n",
       "      <td>Animal feeds</td>\n",
       "      <td>(+44) 5516 171174</td>\n",
       "      <td>caleb_purvis1251615808@iatim.tech</td>\n",
       "      <td>2021-02-23</td>\n",
       "      <td>Dublin</td>\n",
       "      <td>(Ireland, Dublin)</td>\n",
       "    </tr>\n",
       "    <tr>\n",
       "      <th>6934</th>\n",
       "      <td>Kimberley  Pass, 3455</td>\n",
       "      <td>England</td>\n",
       "      <td>457622</td>\n",
       "      <td>Bakery products</td>\n",
       "      <td>(+44) 6057 27343</td>\n",
       "      <td>gina_weasley83573127@naiker.biz</td>\n",
       "      <td>2021-10-02</td>\n",
       "      <td>Plymouth</td>\n",
       "      <td>(England, Plymouth)</td>\n",
       "    </tr>\n",
       "    <tr>\n",
       "      <th>6935</th>\n",
       "      <td>Yorkshire  Alley, 5843</td>\n",
       "      <td>Ireland</td>\n",
       "      <td>461395</td>\n",
       "      <td>Fruit and vegetables</td>\n",
       "      <td>(+44) 3814 518751</td>\n",
       "      <td>aeris_walsh769266811@gompie.com</td>\n",
       "      <td>2021-05-06</td>\n",
       "      <td>Cork</td>\n",
       "      <td>(Ireland, Cork)</td>\n",
       "    </tr>\n",
       "  </tbody>\n",
       "</table>\n",
       "<p>6876 rows × 9 columns</p>\n",
       "</div>"
      ],
      "text/plain": [
       "                           address  country hs_object_id  \\\n",
       "0             Blackpool  Rue, 6576  Ireland       416102   \n",
       "1          Parkfield  Avenue, 5340  Ireland       413403   \n",
       "2              Abourne   Lane, 876  Ireland       417951   \n",
       "3     Chester      Crossroad, 7070  Ireland       419852   \n",
       "4        Tilloch   Crossroad, 8332  Ireland       425352   \n",
       "...                            ...      ...          ...   \n",
       "6931             Cato   Hill, 5704  Ireland       463801   \n",
       "6932        Howard Crossroad, 9998  England       454595   \n",
       "6933              Walnut Rue, 3859  Ireland       454631   \n",
       "6934         Kimberley  Pass, 3455  England       457622   \n",
       "6935        Yorkshire  Alley, 5843  Ireland       461395   \n",
       "\n",
       "                  industry              phone  \\\n",
       "0         Poultry and fish   (+44) 7743 86624   \n",
       "1     Fruit and vegetables  (+44) 6777 367783   \n",
       "2                  Milling  (+44) 5618 556540   \n",
       "3           Dairy products  (+44) 1161 604327   \n",
       "4                     Meat  (+44) 5645 416200   \n",
       "...                    ...                ...   \n",
       "6931  Fruit and vegetables  (+44) 2301 310740   \n",
       "6932       Bakery products  (+44) 6747 016018   \n",
       "6933          Animal feeds  (+44) 5516 171174   \n",
       "6934       Bakery products   (+44) 6057 27343   \n",
       "6935  Fruit and vegetables  (+44) 3814 518751   \n",
       "\n",
       "                              raw_email technical_test___create_date  \\\n",
       "0           zoe_owen450104633@acrit.org                   2021-07-13   \n",
       "1     zara_rodwell1398442854@nickia.com                   2021-01-09   \n",
       "2     zara_freeburn1593147546@gmail.com                   2021-08-30   \n",
       "3      winnie_walter538064895@sheye.org                   2021-02-10   \n",
       "4         zoe_owen1652446013@bungar.biz                   2021-11-02   \n",
       "...                                 ...                          ...   \n",
       "6931     rhea_grady231044837@deons.tech                   2021-04-24   \n",
       "6932  hailey_farrell934796609@brety.org                   2021-12-04   \n",
       "6933  caleb_purvis1251615808@iatim.tech                   2021-02-23   \n",
       "6934    gina_weasley83573127@naiker.biz                   2021-10-02   \n",
       "6935    aeris_walsh769266811@gompie.com                   2021-05-06   \n",
       "\n",
       "           city          countryTuple  \n",
       "0     Waterford  (Ireland, Waterford)  \n",
       "1           NaN        (Ireland, nan)  \n",
       "2           NaN        (Ireland, nan)  \n",
       "3        Dublin     (Ireland, Dublin)  \n",
       "4        Dublin     (Ireland, Dublin)  \n",
       "...         ...                   ...  \n",
       "6931  Waterford  (Ireland, Waterford)  \n",
       "6932     London     (England, London)  \n",
       "6933     Dublin     (Ireland, Dublin)  \n",
       "6934   Plymouth   (England, Plymouth)  \n",
       "6935       Cork       (Ireland, Cork)  \n",
       "\n",
       "[6876 rows x 9 columns]"
      ]
     },
     "execution_count": 7,
     "metadata": {},
     "output_type": "execute_result"
    }
   ],
   "source": [
    "df.dropna(subset=['raw_email'], inplace=True)\n",
    "df"
   ]
  },
  {
   "cell_type": "markdown",
   "metadata": {},
   "source": [
    "## 3. Managing duplicates\n",
    "In this section, we will manage duplicates in the dataset using the email as the unique identifier, and the following rules:\n",
    "- If the email is duplicated, we will keep the last entry.\n",
    "- If the record duplicated has no information in any field (except the email), we will fill the missing information with the information of the previous record.\n",
    "- For the industry field, we will concatenate the values of the duplicated records with a ; as a separator."
   ]
  },
  {
   "cell_type": "code",
   "execution_count": 8,
   "metadata": {},
   "outputs": [
    {
     "data": {
      "text/html": [
       "<div>\n",
       "<style scoped>\n",
       "    .dataframe tbody tr th:only-of-type {\n",
       "        vertical-align: middle;\n",
       "    }\n",
       "\n",
       "    .dataframe tbody tr th {\n",
       "        vertical-align: top;\n",
       "    }\n",
       "\n",
       "    .dataframe thead th {\n",
       "        text-align: right;\n",
       "    }\n",
       "</style>\n",
       "<table border=\"1\" class=\"dataframe\">\n",
       "  <thead>\n",
       "    <tr style=\"text-align: right;\">\n",
       "      <th></th>\n",
       "      <th>address</th>\n",
       "      <th>country</th>\n",
       "      <th>hs_object_id</th>\n",
       "      <th>industry</th>\n",
       "      <th>phone</th>\n",
       "      <th>raw_email</th>\n",
       "      <th>technical_test___create_date</th>\n",
       "      <th>city</th>\n",
       "      <th>countryTuple</th>\n",
       "    </tr>\n",
       "  </thead>\n",
       "  <tbody>\n",
       "    <tr>\n",
       "      <th>0</th>\n",
       "      <td>Besson  Avenue, 1005</td>\n",
       "      <td>Ireland</td>\n",
       "      <td>457508</td>\n",
       "      <td>Poultry and fish</td>\n",
       "      <td>(+44) 8532 182466</td>\n",
       "      <td>abbey_porter75675783@vetan.org</td>\n",
       "      <td>2021-05-12</td>\n",
       "      <td>Limerick</td>\n",
       "      <td>(Ireland, Limerick)</td>\n",
       "    </tr>\n",
       "    <tr>\n",
       "      <th>1</th>\n",
       "      <td>Sheraton   Hill, 1513</td>\n",
       "      <td>England</td>\n",
       "      <td>448185</td>\n",
       "      <td>Poultry and fish</td>\n",
       "      <td>(+44) 4868 808871</td>\n",
       "      <td>abdul_fisher1174469572@grannar.com</td>\n",
       "      <td>2021-01-10</td>\n",
       "      <td>Oxford</td>\n",
       "      <td>(England, Oxford)</td>\n",
       "    </tr>\n",
       "    <tr>\n",
       "      <th>2</th>\n",
       "      <td>Edwin   Rue, 3956</td>\n",
       "      <td>England</td>\n",
       "      <td>454197</td>\n",
       "      <td>Milling</td>\n",
       "      <td>(+44) 4231 262651</td>\n",
       "      <td>abdul_fisher666937132@twipet.com</td>\n",
       "      <td>2021-12-07</td>\n",
       "      <td>NaN</td>\n",
       "      <td>(England, nan)</td>\n",
       "    </tr>\n",
       "    <tr>\n",
       "      <th>3</th>\n",
       "      <td>Parkgate  Street, 5955</td>\n",
       "      <td>Ireland</td>\n",
       "      <td>460181</td>\n",
       "      <td>Bakery products</td>\n",
       "      <td>(+44) 5147 107006</td>\n",
       "      <td>abdul_fox1689938287@mafthy.com</td>\n",
       "      <td>2021-07-12</td>\n",
       "      <td>Dublin</td>\n",
       "      <td>(Ireland, Dublin)</td>\n",
       "    </tr>\n",
       "    <tr>\n",
       "      <th>4</th>\n",
       "      <td>Timothy  Lane, 9113</td>\n",
       "      <td>England</td>\n",
       "      <td>459017</td>\n",
       "      <td>Animal feeds</td>\n",
       "      <td>(+44) 1753 441164</td>\n",
       "      <td>abdul_fox1778689671@tonsy.org</td>\n",
       "      <td>2021-03-16</td>\n",
       "      <td>Plymouth</td>\n",
       "      <td>(England, Plymouth)</td>\n",
       "    </tr>\n",
       "    <tr>\n",
       "      <th>...</th>\n",
       "      <td>...</td>\n",
       "      <td>...</td>\n",
       "      <td>...</td>\n",
       "      <td>...</td>\n",
       "      <td>...</td>\n",
       "      <td>...</td>\n",
       "      <td>...</td>\n",
       "      <td>...</td>\n",
       "      <td>...</td>\n",
       "    </tr>\n",
       "    <tr>\n",
       "      <th>6642</th>\n",
       "      <td>Tilloch   Crossroad, 8332</td>\n",
       "      <td>Ireland</td>\n",
       "      <td>425352</td>\n",
       "      <td>Meat</td>\n",
       "      <td>(+44) 5645 416200</td>\n",
       "      <td>zoe_owen1652446013@bungar.biz</td>\n",
       "      <td>2021-11-02</td>\n",
       "      <td>Dublin</td>\n",
       "      <td>(Ireland, Dublin)</td>\n",
       "    </tr>\n",
       "    <tr>\n",
       "      <th>6643</th>\n",
       "      <td>Blackpool  Rue, 6576</td>\n",
       "      <td>Ireland</td>\n",
       "      <td>416102</td>\n",
       "      <td>Poultry and fish</td>\n",
       "      <td>(+44) 7743 86624</td>\n",
       "      <td>zoe_owen450104633@acrit.org</td>\n",
       "      <td>2021-07-13</td>\n",
       "      <td>Waterford</td>\n",
       "      <td>(Ireland, Waterford)</td>\n",
       "    </tr>\n",
       "    <tr>\n",
       "      <th>6644</th>\n",
       "      <td>Catherine  Drive, 8284</td>\n",
       "      <td>Ireland</td>\n",
       "      <td>459018</td>\n",
       "      <td>Milling</td>\n",
       "      <td>(+44) 6706 675718</td>\n",
       "      <td>zoe_summers84316065@infotech44.tech</td>\n",
       "      <td>2021-03-15</td>\n",
       "      <td>NaN</td>\n",
       "      <td>(Ireland, nan)</td>\n",
       "    </tr>\n",
       "    <tr>\n",
       "      <th>6645</th>\n",
       "      <td>Bermondsey    Drive, 6035</td>\n",
       "      <td>Ireland</td>\n",
       "      <td>460612</td>\n",
       "      <td>Poultry and fish</td>\n",
       "      <td>(+44) 7385 000772</td>\n",
       "      <td>zoe_wallace901459604@sveldo.biz</td>\n",
       "      <td>2021-05-29</td>\n",
       "      <td>Waterford</td>\n",
       "      <td>(Ireland, Waterford)</td>\n",
       "    </tr>\n",
       "    <tr>\n",
       "      <th>6646</th>\n",
       "      <td>Yoakley Route, 2959</td>\n",
       "      <td>England</td>\n",
       "      <td>451190</td>\n",
       "      <td>Bakery products</td>\n",
       "      <td>(+44) 8315 164044</td>\n",
       "      <td>zoe_weldon719495134@vetan.org</td>\n",
       "      <td>2021-02-10</td>\n",
       "      <td>Winchester</td>\n",
       "      <td>(England, Winchester)</td>\n",
       "    </tr>\n",
       "  </tbody>\n",
       "</table>\n",
       "<p>6647 rows × 9 columns</p>\n",
       "</div>"
      ],
      "text/plain": [
       "                        address  country hs_object_id          industry  \\\n",
       "0          Besson  Avenue, 1005  Ireland       457508  Poultry and fish   \n",
       "1         Sheraton   Hill, 1513  England       448185  Poultry and fish   \n",
       "2             Edwin   Rue, 3956  England       454197           Milling   \n",
       "3        Parkgate  Street, 5955  Ireland       460181   Bakery products   \n",
       "4           Timothy  Lane, 9113  England       459017      Animal feeds   \n",
       "...                         ...      ...          ...               ...   \n",
       "6642  Tilloch   Crossroad, 8332  Ireland       425352              Meat   \n",
       "6643       Blackpool  Rue, 6576  Ireland       416102  Poultry and fish   \n",
       "6644     Catherine  Drive, 8284  Ireland       459018           Milling   \n",
       "6645  Bermondsey    Drive, 6035  Ireland       460612  Poultry and fish   \n",
       "6646        Yoakley Route, 2959  England       451190   Bakery products   \n",
       "\n",
       "                  phone                            raw_email  \\\n",
       "0     (+44) 8532 182466       abbey_porter75675783@vetan.org   \n",
       "1     (+44) 4868 808871   abdul_fisher1174469572@grannar.com   \n",
       "2     (+44) 4231 262651     abdul_fisher666937132@twipet.com   \n",
       "3     (+44) 5147 107006       abdul_fox1689938287@mafthy.com   \n",
       "4     (+44) 1753 441164        abdul_fox1778689671@tonsy.org   \n",
       "...                 ...                                  ...   \n",
       "6642  (+44) 5645 416200        zoe_owen1652446013@bungar.biz   \n",
       "6643   (+44) 7743 86624          zoe_owen450104633@acrit.org   \n",
       "6644  (+44) 6706 675718  zoe_summers84316065@infotech44.tech   \n",
       "6645  (+44) 7385 000772      zoe_wallace901459604@sveldo.biz   \n",
       "6646  (+44) 8315 164044        zoe_weldon719495134@vetan.org   \n",
       "\n",
       "     technical_test___create_date        city           countryTuple  \n",
       "0                      2021-05-12    Limerick    (Ireland, Limerick)  \n",
       "1                      2021-01-10      Oxford      (England, Oxford)  \n",
       "2                      2021-12-07         NaN         (England, nan)  \n",
       "3                      2021-07-12      Dublin      (Ireland, Dublin)  \n",
       "4                      2021-03-16    Plymouth    (England, Plymouth)  \n",
       "...                           ...         ...                    ...  \n",
       "6642                   2021-11-02      Dublin      (Ireland, Dublin)  \n",
       "6643                   2021-07-13   Waterford   (Ireland, Waterford)  \n",
       "6644                   2021-03-15         NaN         (Ireland, nan)  \n",
       "6645                   2021-05-29   Waterford   (Ireland, Waterford)  \n",
       "6646                   2021-02-10  Winchester  (England, Winchester)  \n",
       "\n",
       "[6647 rows x 9 columns]"
      ]
     },
     "execution_count": 8,
     "metadata": {},
     "output_type": "execute_result"
    }
   ],
   "source": [
    "dfDuplicates=lib.duplicatesManage(df)\n",
    "dfDuplicates.to_csv('dfDuplicates.csv', index=False)\n",
    "dfDuplicates"
   ]
  },
  {
   "attachments": {},
   "cell_type": "markdown",
   "metadata": {},
   "source": [
    "## 4. Graphing the data.\n",
    "\n",
    "In this section, we are going to explore the visualization of data through interactive graphics using the Plotly library in Python. We will focus on representing the number of people registered based on different aspects, such as countries, cities and dates. We will use bar, pie and line charts to visualize the distribution of people registered by country and the temporal evolution of the records. Something important is that with Plotly we can pass the cursor over some of the data and it will shows us the value of this, which allows us to have a better understanding of the data."
   ]
  },
  {
   "attachments": {},
   "cell_type": "markdown",
   "metadata": {},
   "source": [
    "### 4.1. Country distribution\n",
    "- First of all, we are going to check the country's distribution of the contacts. "
   ]
  },
  {
   "cell_type": "code",
   "execution_count": null,
   "metadata": {},
   "outputs": [],
   "source": [
    "# Group by country and count the number of contacts\n",
    "CountryCount = dfDuplicates['country'].value_counts()\n",
    "\n",
    "# Get the index and the values of the CountryCount\n",
    "countryIndex = CountryCount.index.tolist()\n",
    "countryValues = CountryCount.values.tolist()\n"
   ]
  },
  {
   "cell_type": "code",
   "execution_count": null,
   "metadata": {},
   "outputs": [
    {
     "data": {
      "application/vnd.plotly.v1+json": {
       "config": {
        "plotlyServerURL": "https://plot.ly"
       },
       "data": [
        {
         "labels": [
          "England",
          "Ireland"
         ],
         "type": "pie",
         "values": [
          3512,
          3135
         ]
        }
       ],
       "layout": {
        "template": {
         "data": {
          "bar": [
           {
            "error_x": {
             "color": "#2a3f5f"
            },
            "error_y": {
             "color": "#2a3f5f"
            },
            "marker": {
             "line": {
              "color": "#E5ECF6",
              "width": 0.5
             },
             "pattern": {
              "fillmode": "overlay",
              "size": 10,
              "solidity": 0.2
             }
            },
            "type": "bar"
           }
          ],
          "barpolar": [
           {
            "marker": {
             "line": {
              "color": "#E5ECF6",
              "width": 0.5
             },
             "pattern": {
              "fillmode": "overlay",
              "size": 10,
              "solidity": 0.2
             }
            },
            "type": "barpolar"
           }
          ],
          "carpet": [
           {
            "aaxis": {
             "endlinecolor": "#2a3f5f",
             "gridcolor": "white",
             "linecolor": "white",
             "minorgridcolor": "white",
             "startlinecolor": "#2a3f5f"
            },
            "baxis": {
             "endlinecolor": "#2a3f5f",
             "gridcolor": "white",
             "linecolor": "white",
             "minorgridcolor": "white",
             "startlinecolor": "#2a3f5f"
            },
            "type": "carpet"
           }
          ],
          "choropleth": [
           {
            "colorbar": {
             "outlinewidth": 0,
             "ticks": ""
            },
            "type": "choropleth"
           }
          ],
          "contour": [
           {
            "colorbar": {
             "outlinewidth": 0,
             "ticks": ""
            },
            "colorscale": [
             [
              0,
              "#0d0887"
             ],
             [
              0.1111111111111111,
              "#46039f"
             ],
             [
              0.2222222222222222,
              "#7201a8"
             ],
             [
              0.3333333333333333,
              "#9c179e"
             ],
             [
              0.4444444444444444,
              "#bd3786"
             ],
             [
              0.5555555555555556,
              "#d8576b"
             ],
             [
              0.6666666666666666,
              "#ed7953"
             ],
             [
              0.7777777777777778,
              "#fb9f3a"
             ],
             [
              0.8888888888888888,
              "#fdca26"
             ],
             [
              1,
              "#f0f921"
             ]
            ],
            "type": "contour"
           }
          ],
          "contourcarpet": [
           {
            "colorbar": {
             "outlinewidth": 0,
             "ticks": ""
            },
            "type": "contourcarpet"
           }
          ],
          "heatmap": [
           {
            "colorbar": {
             "outlinewidth": 0,
             "ticks": ""
            },
            "colorscale": [
             [
              0,
              "#0d0887"
             ],
             [
              0.1111111111111111,
              "#46039f"
             ],
             [
              0.2222222222222222,
              "#7201a8"
             ],
             [
              0.3333333333333333,
              "#9c179e"
             ],
             [
              0.4444444444444444,
              "#bd3786"
             ],
             [
              0.5555555555555556,
              "#d8576b"
             ],
             [
              0.6666666666666666,
              "#ed7953"
             ],
             [
              0.7777777777777778,
              "#fb9f3a"
             ],
             [
              0.8888888888888888,
              "#fdca26"
             ],
             [
              1,
              "#f0f921"
             ]
            ],
            "type": "heatmap"
           }
          ],
          "heatmapgl": [
           {
            "colorbar": {
             "outlinewidth": 0,
             "ticks": ""
            },
            "colorscale": [
             [
              0,
              "#0d0887"
             ],
             [
              0.1111111111111111,
              "#46039f"
             ],
             [
              0.2222222222222222,
              "#7201a8"
             ],
             [
              0.3333333333333333,
              "#9c179e"
             ],
             [
              0.4444444444444444,
              "#bd3786"
             ],
             [
              0.5555555555555556,
              "#d8576b"
             ],
             [
              0.6666666666666666,
              "#ed7953"
             ],
             [
              0.7777777777777778,
              "#fb9f3a"
             ],
             [
              0.8888888888888888,
              "#fdca26"
             ],
             [
              1,
              "#f0f921"
             ]
            ],
            "type": "heatmapgl"
           }
          ],
          "histogram": [
           {
            "marker": {
             "pattern": {
              "fillmode": "overlay",
              "size": 10,
              "solidity": 0.2
             }
            },
            "type": "histogram"
           }
          ],
          "histogram2d": [
           {
            "colorbar": {
             "outlinewidth": 0,
             "ticks": ""
            },
            "colorscale": [
             [
              0,
              "#0d0887"
             ],
             [
              0.1111111111111111,
              "#46039f"
             ],
             [
              0.2222222222222222,
              "#7201a8"
             ],
             [
              0.3333333333333333,
              "#9c179e"
             ],
             [
              0.4444444444444444,
              "#bd3786"
             ],
             [
              0.5555555555555556,
              "#d8576b"
             ],
             [
              0.6666666666666666,
              "#ed7953"
             ],
             [
              0.7777777777777778,
              "#fb9f3a"
             ],
             [
              0.8888888888888888,
              "#fdca26"
             ],
             [
              1,
              "#f0f921"
             ]
            ],
            "type": "histogram2d"
           }
          ],
          "histogram2dcontour": [
           {
            "colorbar": {
             "outlinewidth": 0,
             "ticks": ""
            },
            "colorscale": [
             [
              0,
              "#0d0887"
             ],
             [
              0.1111111111111111,
              "#46039f"
             ],
             [
              0.2222222222222222,
              "#7201a8"
             ],
             [
              0.3333333333333333,
              "#9c179e"
             ],
             [
              0.4444444444444444,
              "#bd3786"
             ],
             [
              0.5555555555555556,
              "#d8576b"
             ],
             [
              0.6666666666666666,
              "#ed7953"
             ],
             [
              0.7777777777777778,
              "#fb9f3a"
             ],
             [
              0.8888888888888888,
              "#fdca26"
             ],
             [
              1,
              "#f0f921"
             ]
            ],
            "type": "histogram2dcontour"
           }
          ],
          "mesh3d": [
           {
            "colorbar": {
             "outlinewidth": 0,
             "ticks": ""
            },
            "type": "mesh3d"
           }
          ],
          "parcoords": [
           {
            "line": {
             "colorbar": {
              "outlinewidth": 0,
              "ticks": ""
             }
            },
            "type": "parcoords"
           }
          ],
          "pie": [
           {
            "automargin": true,
            "type": "pie"
           }
          ],
          "scatter": [
           {
            "fillpattern": {
             "fillmode": "overlay",
             "size": 10,
             "solidity": 0.2
            },
            "type": "scatter"
           }
          ],
          "scatter3d": [
           {
            "line": {
             "colorbar": {
              "outlinewidth": 0,
              "ticks": ""
             }
            },
            "marker": {
             "colorbar": {
              "outlinewidth": 0,
              "ticks": ""
             }
            },
            "type": "scatter3d"
           }
          ],
          "scattercarpet": [
           {
            "marker": {
             "colorbar": {
              "outlinewidth": 0,
              "ticks": ""
             }
            },
            "type": "scattercarpet"
           }
          ],
          "scattergeo": [
           {
            "marker": {
             "colorbar": {
              "outlinewidth": 0,
              "ticks": ""
             }
            },
            "type": "scattergeo"
           }
          ],
          "scattergl": [
           {
            "marker": {
             "colorbar": {
              "outlinewidth": 0,
              "ticks": ""
             }
            },
            "type": "scattergl"
           }
          ],
          "scattermapbox": [
           {
            "marker": {
             "colorbar": {
              "outlinewidth": 0,
              "ticks": ""
             }
            },
            "type": "scattermapbox"
           }
          ],
          "scatterpolar": [
           {
            "marker": {
             "colorbar": {
              "outlinewidth": 0,
              "ticks": ""
             }
            },
            "type": "scatterpolar"
           }
          ],
          "scatterpolargl": [
           {
            "marker": {
             "colorbar": {
              "outlinewidth": 0,
              "ticks": ""
             }
            },
            "type": "scatterpolargl"
           }
          ],
          "scatterternary": [
           {
            "marker": {
             "colorbar": {
              "outlinewidth": 0,
              "ticks": ""
             }
            },
            "type": "scatterternary"
           }
          ],
          "surface": [
           {
            "colorbar": {
             "outlinewidth": 0,
             "ticks": ""
            },
            "colorscale": [
             [
              0,
              "#0d0887"
             ],
             [
              0.1111111111111111,
              "#46039f"
             ],
             [
              0.2222222222222222,
              "#7201a8"
             ],
             [
              0.3333333333333333,
              "#9c179e"
             ],
             [
              0.4444444444444444,
              "#bd3786"
             ],
             [
              0.5555555555555556,
              "#d8576b"
             ],
             [
              0.6666666666666666,
              "#ed7953"
             ],
             [
              0.7777777777777778,
              "#fb9f3a"
             ],
             [
              0.8888888888888888,
              "#fdca26"
             ],
             [
              1,
              "#f0f921"
             ]
            ],
            "type": "surface"
           }
          ],
          "table": [
           {
            "cells": {
             "fill": {
              "color": "#EBF0F8"
             },
             "line": {
              "color": "white"
             }
            },
            "header": {
             "fill": {
              "color": "#C8D4E3"
             },
             "line": {
              "color": "white"
             }
            },
            "type": "table"
           }
          ]
         },
         "layout": {
          "annotationdefaults": {
           "arrowcolor": "#2a3f5f",
           "arrowhead": 0,
           "arrowwidth": 1
          },
          "autotypenumbers": "strict",
          "coloraxis": {
           "colorbar": {
            "outlinewidth": 0,
            "ticks": ""
           }
          },
          "colorscale": {
           "diverging": [
            [
             0,
             "#8e0152"
            ],
            [
             0.1,
             "#c51b7d"
            ],
            [
             0.2,
             "#de77ae"
            ],
            [
             0.3,
             "#f1b6da"
            ],
            [
             0.4,
             "#fde0ef"
            ],
            [
             0.5,
             "#f7f7f7"
            ],
            [
             0.6,
             "#e6f5d0"
            ],
            [
             0.7,
             "#b8e186"
            ],
            [
             0.8,
             "#7fbc41"
            ],
            [
             0.9,
             "#4d9221"
            ],
            [
             1,
             "#276419"
            ]
           ],
           "sequential": [
            [
             0,
             "#0d0887"
            ],
            [
             0.1111111111111111,
             "#46039f"
            ],
            [
             0.2222222222222222,
             "#7201a8"
            ],
            [
             0.3333333333333333,
             "#9c179e"
            ],
            [
             0.4444444444444444,
             "#bd3786"
            ],
            [
             0.5555555555555556,
             "#d8576b"
            ],
            [
             0.6666666666666666,
             "#ed7953"
            ],
            [
             0.7777777777777778,
             "#fb9f3a"
            ],
            [
             0.8888888888888888,
             "#fdca26"
            ],
            [
             1,
             "#f0f921"
            ]
           ],
           "sequentialminus": [
            [
             0,
             "#0d0887"
            ],
            [
             0.1111111111111111,
             "#46039f"
            ],
            [
             0.2222222222222222,
             "#7201a8"
            ],
            [
             0.3333333333333333,
             "#9c179e"
            ],
            [
             0.4444444444444444,
             "#bd3786"
            ],
            [
             0.5555555555555556,
             "#d8576b"
            ],
            [
             0.6666666666666666,
             "#ed7953"
            ],
            [
             0.7777777777777778,
             "#fb9f3a"
            ],
            [
             0.8888888888888888,
             "#fdca26"
            ],
            [
             1,
             "#f0f921"
            ]
           ]
          },
          "colorway": [
           "#636efa",
           "#EF553B",
           "#00cc96",
           "#ab63fa",
           "#FFA15A",
           "#19d3f3",
           "#FF6692",
           "#B6E880",
           "#FF97FF",
           "#FECB52"
          ],
          "font": {
           "color": "#2a3f5f"
          },
          "geo": {
           "bgcolor": "white",
           "lakecolor": "white",
           "landcolor": "#E5ECF6",
           "showlakes": true,
           "showland": true,
           "subunitcolor": "white"
          },
          "hoverlabel": {
           "align": "left"
          },
          "hovermode": "closest",
          "mapbox": {
           "style": "light"
          },
          "paper_bgcolor": "white",
          "plot_bgcolor": "#E5ECF6",
          "polar": {
           "angularaxis": {
            "gridcolor": "white",
            "linecolor": "white",
            "ticks": ""
           },
           "bgcolor": "#E5ECF6",
           "radialaxis": {
            "gridcolor": "white",
            "linecolor": "white",
            "ticks": ""
           }
          },
          "scene": {
           "xaxis": {
            "backgroundcolor": "#E5ECF6",
            "gridcolor": "white",
            "gridwidth": 2,
            "linecolor": "white",
            "showbackground": true,
            "ticks": "",
            "zerolinecolor": "white"
           },
           "yaxis": {
            "backgroundcolor": "#E5ECF6",
            "gridcolor": "white",
            "gridwidth": 2,
            "linecolor": "white",
            "showbackground": true,
            "ticks": "",
            "zerolinecolor": "white"
           },
           "zaxis": {
            "backgroundcolor": "#E5ECF6",
            "gridcolor": "white",
            "gridwidth": 2,
            "linecolor": "white",
            "showbackground": true,
            "ticks": "",
            "zerolinecolor": "white"
           }
          },
          "shapedefaults": {
           "line": {
            "color": "#2a3f5f"
           }
          },
          "ternary": {
           "aaxis": {
            "gridcolor": "white",
            "linecolor": "white",
            "ticks": ""
           },
           "baxis": {
            "gridcolor": "white",
            "linecolor": "white",
            "ticks": ""
           },
           "bgcolor": "#E5ECF6",
           "caxis": {
            "gridcolor": "white",
            "linecolor": "white",
            "ticks": ""
           }
          },
          "title": {
           "x": 0.05
          },
          "xaxis": {
           "automargin": true,
           "gridcolor": "white",
           "linecolor": "white",
           "ticks": "",
           "title": {
            "standoff": 15
           },
           "zerolinecolor": "white",
           "zerolinewidth": 2
          },
          "yaxis": {
           "automargin": true,
           "gridcolor": "white",
           "linecolor": "white",
           "ticks": "",
           "title": {
            "standoff": 15
           },
           "zerolinecolor": "white",
           "zerolinewidth": 2
          }
         }
        },
        "title": {
         "text": "Contacts by country"
        }
       }
      }
     },
     "metadata": {},
     "output_type": "display_data"
    }
   ],
   "source": [
    "fig = go.Figure(data=go.Pie(labels=countryIndex, values=countryValues))\n",
    "# Personalizar el gráfico\n",
    "fig.update_layout(\n",
    "    title=\"Contacts by Country\",\n",
    ")\n",
    "\n",
    "# Mostrar el gráfico interactivo\n",
    "fig.show()"
   ]
  },
  {
   "attachments": {},
   "cell_type": "markdown",
   "metadata": {},
   "source": [
    "- We can see that the country with more contacts is the England, followed by Ireland, but the difference is just around a 5%."
   ]
  },
  {
   "cell_type": "code",
   "execution_count": null,
   "metadata": {},
   "outputs": [],
   "source": [
    "# Funtion to get the colors for the chart\n",
    "def colorsDefinition(listIndex):\n",
    "    numColors = len(listIndex)\n",
    "    colors = px.colors.qualitative.Plotly * (numColors // len(px.colors.qualitative.Plotly) + 1)\n",
    "    # Return the colors for the chart\n",
    "    return colors[:numColors]"
   ]
  },
  {
   "attachments": {},
   "cell_type": "markdown",
   "metadata": {},
   "source": [
    "### 4.2. City distribution\n",
    "- Now we are going to see the distribution of the contacts by city. We are going to use the same function that we used for the country distribution, but this time we are going to group by city."
   ]
  },
  {
   "cell_type": "code",
   "execution_count": null,
   "metadata": {},
   "outputs": [],
   "source": [
    "# Group by city and count the number of contacts\n",
    "cityCount = dfDuplicates['city'].value_counts()\n",
    "\n",
    "# Get the index and the values of the cityCount\n",
    "cityIndex = cityCount.index.tolist()\n",
    "cityValues = cityCount.values.tolist()\n"
   ]
  },
  {
   "cell_type": "code",
   "execution_count": null,
   "metadata": {},
   "outputs": [
    {
     "data": {
      "application/vnd.plotly.v1+json": {
       "config": {
        "plotlyServerURL": "https://plot.ly"
       },
       "data": [
        {
         "marker": {
          "color": [
           "#636EFA",
           "#EF553B",
           "#00CC96",
           "#AB63FA",
           "#FFA15A",
           "#19D3F3",
           "#FF6692",
           "#B6E880",
           "#FF97FF"
          ]
         },
         "type": "bar",
         "x": [
          "Waterford",
          "Limerick",
          "Dublin",
          "Cork",
          "Plymouth",
          "Milton Keynes",
          "London",
          "Oxford",
          "Winchester"
         ],
         "y": [
          658,
          635,
          618,
          609,
          604,
          604,
          589,
          570,
          557
         ]
        }
       ],
       "layout": {
        "template": {
         "data": {
          "bar": [
           {
            "error_x": {
             "color": "#2a3f5f"
            },
            "error_y": {
             "color": "#2a3f5f"
            },
            "marker": {
             "line": {
              "color": "#E5ECF6",
              "width": 0.5
             },
             "pattern": {
              "fillmode": "overlay",
              "size": 10,
              "solidity": 0.2
             }
            },
            "type": "bar"
           }
          ],
          "barpolar": [
           {
            "marker": {
             "line": {
              "color": "#E5ECF6",
              "width": 0.5
             },
             "pattern": {
              "fillmode": "overlay",
              "size": 10,
              "solidity": 0.2
             }
            },
            "type": "barpolar"
           }
          ],
          "carpet": [
           {
            "aaxis": {
             "endlinecolor": "#2a3f5f",
             "gridcolor": "white",
             "linecolor": "white",
             "minorgridcolor": "white",
             "startlinecolor": "#2a3f5f"
            },
            "baxis": {
             "endlinecolor": "#2a3f5f",
             "gridcolor": "white",
             "linecolor": "white",
             "minorgridcolor": "white",
             "startlinecolor": "#2a3f5f"
            },
            "type": "carpet"
           }
          ],
          "choropleth": [
           {
            "colorbar": {
             "outlinewidth": 0,
             "ticks": ""
            },
            "type": "choropleth"
           }
          ],
          "contour": [
           {
            "colorbar": {
             "outlinewidth": 0,
             "ticks": ""
            },
            "colorscale": [
             [
              0,
              "#0d0887"
             ],
             [
              0.1111111111111111,
              "#46039f"
             ],
             [
              0.2222222222222222,
              "#7201a8"
             ],
             [
              0.3333333333333333,
              "#9c179e"
             ],
             [
              0.4444444444444444,
              "#bd3786"
             ],
             [
              0.5555555555555556,
              "#d8576b"
             ],
             [
              0.6666666666666666,
              "#ed7953"
             ],
             [
              0.7777777777777778,
              "#fb9f3a"
             ],
             [
              0.8888888888888888,
              "#fdca26"
             ],
             [
              1,
              "#f0f921"
             ]
            ],
            "type": "contour"
           }
          ],
          "contourcarpet": [
           {
            "colorbar": {
             "outlinewidth": 0,
             "ticks": ""
            },
            "type": "contourcarpet"
           }
          ],
          "heatmap": [
           {
            "colorbar": {
             "outlinewidth": 0,
             "ticks": ""
            },
            "colorscale": [
             [
              0,
              "#0d0887"
             ],
             [
              0.1111111111111111,
              "#46039f"
             ],
             [
              0.2222222222222222,
              "#7201a8"
             ],
             [
              0.3333333333333333,
              "#9c179e"
             ],
             [
              0.4444444444444444,
              "#bd3786"
             ],
             [
              0.5555555555555556,
              "#d8576b"
             ],
             [
              0.6666666666666666,
              "#ed7953"
             ],
             [
              0.7777777777777778,
              "#fb9f3a"
             ],
             [
              0.8888888888888888,
              "#fdca26"
             ],
             [
              1,
              "#f0f921"
             ]
            ],
            "type": "heatmap"
           }
          ],
          "heatmapgl": [
           {
            "colorbar": {
             "outlinewidth": 0,
             "ticks": ""
            },
            "colorscale": [
             [
              0,
              "#0d0887"
             ],
             [
              0.1111111111111111,
              "#46039f"
             ],
             [
              0.2222222222222222,
              "#7201a8"
             ],
             [
              0.3333333333333333,
              "#9c179e"
             ],
             [
              0.4444444444444444,
              "#bd3786"
             ],
             [
              0.5555555555555556,
              "#d8576b"
             ],
             [
              0.6666666666666666,
              "#ed7953"
             ],
             [
              0.7777777777777778,
              "#fb9f3a"
             ],
             [
              0.8888888888888888,
              "#fdca26"
             ],
             [
              1,
              "#f0f921"
             ]
            ],
            "type": "heatmapgl"
           }
          ],
          "histogram": [
           {
            "marker": {
             "pattern": {
              "fillmode": "overlay",
              "size": 10,
              "solidity": 0.2
             }
            },
            "type": "histogram"
           }
          ],
          "histogram2d": [
           {
            "colorbar": {
             "outlinewidth": 0,
             "ticks": ""
            },
            "colorscale": [
             [
              0,
              "#0d0887"
             ],
             [
              0.1111111111111111,
              "#46039f"
             ],
             [
              0.2222222222222222,
              "#7201a8"
             ],
             [
              0.3333333333333333,
              "#9c179e"
             ],
             [
              0.4444444444444444,
              "#bd3786"
             ],
             [
              0.5555555555555556,
              "#d8576b"
             ],
             [
              0.6666666666666666,
              "#ed7953"
             ],
             [
              0.7777777777777778,
              "#fb9f3a"
             ],
             [
              0.8888888888888888,
              "#fdca26"
             ],
             [
              1,
              "#f0f921"
             ]
            ],
            "type": "histogram2d"
           }
          ],
          "histogram2dcontour": [
           {
            "colorbar": {
             "outlinewidth": 0,
             "ticks": ""
            },
            "colorscale": [
             [
              0,
              "#0d0887"
             ],
             [
              0.1111111111111111,
              "#46039f"
             ],
             [
              0.2222222222222222,
              "#7201a8"
             ],
             [
              0.3333333333333333,
              "#9c179e"
             ],
             [
              0.4444444444444444,
              "#bd3786"
             ],
             [
              0.5555555555555556,
              "#d8576b"
             ],
             [
              0.6666666666666666,
              "#ed7953"
             ],
             [
              0.7777777777777778,
              "#fb9f3a"
             ],
             [
              0.8888888888888888,
              "#fdca26"
             ],
             [
              1,
              "#f0f921"
             ]
            ],
            "type": "histogram2dcontour"
           }
          ],
          "mesh3d": [
           {
            "colorbar": {
             "outlinewidth": 0,
             "ticks": ""
            },
            "type": "mesh3d"
           }
          ],
          "parcoords": [
           {
            "line": {
             "colorbar": {
              "outlinewidth": 0,
              "ticks": ""
             }
            },
            "type": "parcoords"
           }
          ],
          "pie": [
           {
            "automargin": true,
            "type": "pie"
           }
          ],
          "scatter": [
           {
            "fillpattern": {
             "fillmode": "overlay",
             "size": 10,
             "solidity": 0.2
            },
            "type": "scatter"
           }
          ],
          "scatter3d": [
           {
            "line": {
             "colorbar": {
              "outlinewidth": 0,
              "ticks": ""
             }
            },
            "marker": {
             "colorbar": {
              "outlinewidth": 0,
              "ticks": ""
             }
            },
            "type": "scatter3d"
           }
          ],
          "scattercarpet": [
           {
            "marker": {
             "colorbar": {
              "outlinewidth": 0,
              "ticks": ""
             }
            },
            "type": "scattercarpet"
           }
          ],
          "scattergeo": [
           {
            "marker": {
             "colorbar": {
              "outlinewidth": 0,
              "ticks": ""
             }
            },
            "type": "scattergeo"
           }
          ],
          "scattergl": [
           {
            "marker": {
             "colorbar": {
              "outlinewidth": 0,
              "ticks": ""
             }
            },
            "type": "scattergl"
           }
          ],
          "scattermapbox": [
           {
            "marker": {
             "colorbar": {
              "outlinewidth": 0,
              "ticks": ""
             }
            },
            "type": "scattermapbox"
           }
          ],
          "scatterpolar": [
           {
            "marker": {
             "colorbar": {
              "outlinewidth": 0,
              "ticks": ""
             }
            },
            "type": "scatterpolar"
           }
          ],
          "scatterpolargl": [
           {
            "marker": {
             "colorbar": {
              "outlinewidth": 0,
              "ticks": ""
             }
            },
            "type": "scatterpolargl"
           }
          ],
          "scatterternary": [
           {
            "marker": {
             "colorbar": {
              "outlinewidth": 0,
              "ticks": ""
             }
            },
            "type": "scatterternary"
           }
          ],
          "surface": [
           {
            "colorbar": {
             "outlinewidth": 0,
             "ticks": ""
            },
            "colorscale": [
             [
              0,
              "#0d0887"
             ],
             [
              0.1111111111111111,
              "#46039f"
             ],
             [
              0.2222222222222222,
              "#7201a8"
             ],
             [
              0.3333333333333333,
              "#9c179e"
             ],
             [
              0.4444444444444444,
              "#bd3786"
             ],
             [
              0.5555555555555556,
              "#d8576b"
             ],
             [
              0.6666666666666666,
              "#ed7953"
             ],
             [
              0.7777777777777778,
              "#fb9f3a"
             ],
             [
              0.8888888888888888,
              "#fdca26"
             ],
             [
              1,
              "#f0f921"
             ]
            ],
            "type": "surface"
           }
          ],
          "table": [
           {
            "cells": {
             "fill": {
              "color": "#EBF0F8"
             },
             "line": {
              "color": "white"
             }
            },
            "header": {
             "fill": {
              "color": "#C8D4E3"
             },
             "line": {
              "color": "white"
             }
            },
            "type": "table"
           }
          ]
         },
         "layout": {
          "annotationdefaults": {
           "arrowcolor": "#2a3f5f",
           "arrowhead": 0,
           "arrowwidth": 1
          },
          "autotypenumbers": "strict",
          "coloraxis": {
           "colorbar": {
            "outlinewidth": 0,
            "ticks": ""
           }
          },
          "colorscale": {
           "diverging": [
            [
             0,
             "#8e0152"
            ],
            [
             0.1,
             "#c51b7d"
            ],
            [
             0.2,
             "#de77ae"
            ],
            [
             0.3,
             "#f1b6da"
            ],
            [
             0.4,
             "#fde0ef"
            ],
            [
             0.5,
             "#f7f7f7"
            ],
            [
             0.6,
             "#e6f5d0"
            ],
            [
             0.7,
             "#b8e186"
            ],
            [
             0.8,
             "#7fbc41"
            ],
            [
             0.9,
             "#4d9221"
            ],
            [
             1,
             "#276419"
            ]
           ],
           "sequential": [
            [
             0,
             "#0d0887"
            ],
            [
             0.1111111111111111,
             "#46039f"
            ],
            [
             0.2222222222222222,
             "#7201a8"
            ],
            [
             0.3333333333333333,
             "#9c179e"
            ],
            [
             0.4444444444444444,
             "#bd3786"
            ],
            [
             0.5555555555555556,
             "#d8576b"
            ],
            [
             0.6666666666666666,
             "#ed7953"
            ],
            [
             0.7777777777777778,
             "#fb9f3a"
            ],
            [
             0.8888888888888888,
             "#fdca26"
            ],
            [
             1,
             "#f0f921"
            ]
           ],
           "sequentialminus": [
            [
             0,
             "#0d0887"
            ],
            [
             0.1111111111111111,
             "#46039f"
            ],
            [
             0.2222222222222222,
             "#7201a8"
            ],
            [
             0.3333333333333333,
             "#9c179e"
            ],
            [
             0.4444444444444444,
             "#bd3786"
            ],
            [
             0.5555555555555556,
             "#d8576b"
            ],
            [
             0.6666666666666666,
             "#ed7953"
            ],
            [
             0.7777777777777778,
             "#fb9f3a"
            ],
            [
             0.8888888888888888,
             "#fdca26"
            ],
            [
             1,
             "#f0f921"
            ]
           ]
          },
          "colorway": [
           "#636efa",
           "#EF553B",
           "#00cc96",
           "#ab63fa",
           "#FFA15A",
           "#19d3f3",
           "#FF6692",
           "#B6E880",
           "#FF97FF",
           "#FECB52"
          ],
          "font": {
           "color": "#2a3f5f"
          },
          "geo": {
           "bgcolor": "white",
           "lakecolor": "white",
           "landcolor": "#E5ECF6",
           "showlakes": true,
           "showland": true,
           "subunitcolor": "white"
          },
          "hoverlabel": {
           "align": "left"
          },
          "hovermode": "closest",
          "mapbox": {
           "style": "light"
          },
          "paper_bgcolor": "white",
          "plot_bgcolor": "#E5ECF6",
          "polar": {
           "angularaxis": {
            "gridcolor": "white",
            "linecolor": "white",
            "ticks": ""
           },
           "bgcolor": "#E5ECF6",
           "radialaxis": {
            "gridcolor": "white",
            "linecolor": "white",
            "ticks": ""
           }
          },
          "scene": {
           "xaxis": {
            "backgroundcolor": "#E5ECF6",
            "gridcolor": "white",
            "gridwidth": 2,
            "linecolor": "white",
            "showbackground": true,
            "ticks": "",
            "zerolinecolor": "white"
           },
           "yaxis": {
            "backgroundcolor": "#E5ECF6",
            "gridcolor": "white",
            "gridwidth": 2,
            "linecolor": "white",
            "showbackground": true,
            "ticks": "",
            "zerolinecolor": "white"
           },
           "zaxis": {
            "backgroundcolor": "#E5ECF6",
            "gridcolor": "white",
            "gridwidth": 2,
            "linecolor": "white",
            "showbackground": true,
            "ticks": "",
            "zerolinecolor": "white"
           }
          },
          "shapedefaults": {
           "line": {
            "color": "#2a3f5f"
           }
          },
          "ternary": {
           "aaxis": {
            "gridcolor": "white",
            "linecolor": "white",
            "ticks": ""
           },
           "baxis": {
            "gridcolor": "white",
            "linecolor": "white",
            "ticks": ""
           },
           "bgcolor": "#E5ECF6",
           "caxis": {
            "gridcolor": "white",
            "linecolor": "white",
            "ticks": ""
           }
          },
          "title": {
           "x": 0.05
          },
          "xaxis": {
           "automargin": true,
           "gridcolor": "white",
           "linecolor": "white",
           "ticks": "",
           "title": {
            "standoff": 15
           },
           "zerolinecolor": "white",
           "zerolinewidth": 2
          },
          "yaxis": {
           "automargin": true,
           "gridcolor": "white",
           "linecolor": "white",
           "ticks": "",
           "title": {
            "standoff": 15
           },
           "zerolinecolor": "white",
           "zerolinewidth": 2
          }
         }
        },
        "title": {
         "text": "Distribution of people by city"
        },
        "xaxis": {
         "title": {
          "text": "City"
         }
        },
        "yaxis": {
         "title": {
          "text": "Number of people"
         }
        }
       }
      }
     },
     "metadata": {},
     "output_type": "display_data"
    }
   ],
   "source": [
    "# Create the bar chart\n",
    "fig = go.Figure(data=go.Bar(x=cityIndex, y=cityValues, marker=dict(color=colorsDefinition(cityIndex))))\n",
    "\n",
    "# Personalize the graph\n",
    "fig.update_layout(\n",
    "    title=\"Distribution of People by City\",\n",
    "    xaxis_title=\"City\",\n",
    "    yaxis_title=\"Number of People\"\n",
    ")\n",
    "\n",
    "# Show the interactive graph    \n",
    "fig.show()"
   ]
  },
  {
   "attachments": {},
   "cell_type": "markdown",
   "metadata": {},
   "source": [
    "- Waterford is the city with more contacts, followed by Limerick and Dublin, but again the difference is not big.\n",
    "\n"
   ]
  },
  {
   "attachments": {},
   "cell_type": "markdown",
   "metadata": {},
   "source": [
    "### 4.3. Date of creation distribution\n",
    "- Last, we are going to analyze the distribution of the contacts by the date of creation. We are going to use a Line chart to show the distribution of the contacts by the date of creation grouped by month."
   ]
  },
  {
   "cell_type": "code",
   "execution_count": null,
   "metadata": {},
   "outputs": [],
   "source": [
    "# Convert the column to datetime\n",
    "dfDuplicates['technical_test___create_date'] = pd.to_datetime(dfDuplicates['technical_test___create_date'])\n",
    "\n",
    "# Group by month and count the number of people\n",
    "dateGroups = dfDuplicates.groupby(dfDuplicates['technical_test___create_date'].dt.month).size()"
   ]
  },
  {
   "cell_type": "code",
   "execution_count": null,
   "metadata": {},
   "outputs": [],
   "source": [
    "# Get the months and the number of people\n",
    "month = ['January', 'February', 'March', 'April', 'May', 'June', 'July', 'August', 'September', 'October','November', 'December']\n",
    "monthValues = dateGroups.values.tolist()"
   ]
  },
  {
   "cell_type": "code",
   "execution_count": null,
   "metadata": {},
   "outputs": [
    {
     "data": {
      "application/vnd.plotly.v1+json": {
       "config": {
        "plotlyServerURL": "https://plot.ly"
       },
       "data": [
        {
         "marker": {
          "color": [
           "#636EFA",
           "#EF553B",
           "#00CC96",
           "#AB63FA",
           "#FFA15A",
           "#19D3F3",
           "#FF6692",
           "#B6E880",
           "#FF97FF",
           "#FECB52",
           "#636EFA",
           "#EF553B"
          ]
         },
         "type": "scatter",
         "x": [
          "January",
          "February",
          "March",
          "April",
          "May",
          "June",
          "July",
          "August",
          "September",
          "October",
          "November",
          "December"
         ],
         "y": [
          528,
          512,
          585,
          534,
          543,
          565,
          576,
          577,
          545,
          551,
          562,
          569
         ]
        }
       ],
       "layout": {
        "template": {
         "data": {
          "bar": [
           {
            "error_x": {
             "color": "#2a3f5f"
            },
            "error_y": {
             "color": "#2a3f5f"
            },
            "marker": {
             "line": {
              "color": "#E5ECF6",
              "width": 0.5
             },
             "pattern": {
              "fillmode": "overlay",
              "size": 10,
              "solidity": 0.2
             }
            },
            "type": "bar"
           }
          ],
          "barpolar": [
           {
            "marker": {
             "line": {
              "color": "#E5ECF6",
              "width": 0.5
             },
             "pattern": {
              "fillmode": "overlay",
              "size": 10,
              "solidity": 0.2
             }
            },
            "type": "barpolar"
           }
          ],
          "carpet": [
           {
            "aaxis": {
             "endlinecolor": "#2a3f5f",
             "gridcolor": "white",
             "linecolor": "white",
             "minorgridcolor": "white",
             "startlinecolor": "#2a3f5f"
            },
            "baxis": {
             "endlinecolor": "#2a3f5f",
             "gridcolor": "white",
             "linecolor": "white",
             "minorgridcolor": "white",
             "startlinecolor": "#2a3f5f"
            },
            "type": "carpet"
           }
          ],
          "choropleth": [
           {
            "colorbar": {
             "outlinewidth": 0,
             "ticks": ""
            },
            "type": "choropleth"
           }
          ],
          "contour": [
           {
            "colorbar": {
             "outlinewidth": 0,
             "ticks": ""
            },
            "colorscale": [
             [
              0,
              "#0d0887"
             ],
             [
              0.1111111111111111,
              "#46039f"
             ],
             [
              0.2222222222222222,
              "#7201a8"
             ],
             [
              0.3333333333333333,
              "#9c179e"
             ],
             [
              0.4444444444444444,
              "#bd3786"
             ],
             [
              0.5555555555555556,
              "#d8576b"
             ],
             [
              0.6666666666666666,
              "#ed7953"
             ],
             [
              0.7777777777777778,
              "#fb9f3a"
             ],
             [
              0.8888888888888888,
              "#fdca26"
             ],
             [
              1,
              "#f0f921"
             ]
            ],
            "type": "contour"
           }
          ],
          "contourcarpet": [
           {
            "colorbar": {
             "outlinewidth": 0,
             "ticks": ""
            },
            "type": "contourcarpet"
           }
          ],
          "heatmap": [
           {
            "colorbar": {
             "outlinewidth": 0,
             "ticks": ""
            },
            "colorscale": [
             [
              0,
              "#0d0887"
             ],
             [
              0.1111111111111111,
              "#46039f"
             ],
             [
              0.2222222222222222,
              "#7201a8"
             ],
             [
              0.3333333333333333,
              "#9c179e"
             ],
             [
              0.4444444444444444,
              "#bd3786"
             ],
             [
              0.5555555555555556,
              "#d8576b"
             ],
             [
              0.6666666666666666,
              "#ed7953"
             ],
             [
              0.7777777777777778,
              "#fb9f3a"
             ],
             [
              0.8888888888888888,
              "#fdca26"
             ],
             [
              1,
              "#f0f921"
             ]
            ],
            "type": "heatmap"
           }
          ],
          "heatmapgl": [
           {
            "colorbar": {
             "outlinewidth": 0,
             "ticks": ""
            },
            "colorscale": [
             [
              0,
              "#0d0887"
             ],
             [
              0.1111111111111111,
              "#46039f"
             ],
             [
              0.2222222222222222,
              "#7201a8"
             ],
             [
              0.3333333333333333,
              "#9c179e"
             ],
             [
              0.4444444444444444,
              "#bd3786"
             ],
             [
              0.5555555555555556,
              "#d8576b"
             ],
             [
              0.6666666666666666,
              "#ed7953"
             ],
             [
              0.7777777777777778,
              "#fb9f3a"
             ],
             [
              0.8888888888888888,
              "#fdca26"
             ],
             [
              1,
              "#f0f921"
             ]
            ],
            "type": "heatmapgl"
           }
          ],
          "histogram": [
           {
            "marker": {
             "pattern": {
              "fillmode": "overlay",
              "size": 10,
              "solidity": 0.2
             }
            },
            "type": "histogram"
           }
          ],
          "histogram2d": [
           {
            "colorbar": {
             "outlinewidth": 0,
             "ticks": ""
            },
            "colorscale": [
             [
              0,
              "#0d0887"
             ],
             [
              0.1111111111111111,
              "#46039f"
             ],
             [
              0.2222222222222222,
              "#7201a8"
             ],
             [
              0.3333333333333333,
              "#9c179e"
             ],
             [
              0.4444444444444444,
              "#bd3786"
             ],
             [
              0.5555555555555556,
              "#d8576b"
             ],
             [
              0.6666666666666666,
              "#ed7953"
             ],
             [
              0.7777777777777778,
              "#fb9f3a"
             ],
             [
              0.8888888888888888,
              "#fdca26"
             ],
             [
              1,
              "#f0f921"
             ]
            ],
            "type": "histogram2d"
           }
          ],
          "histogram2dcontour": [
           {
            "colorbar": {
             "outlinewidth": 0,
             "ticks": ""
            },
            "colorscale": [
             [
              0,
              "#0d0887"
             ],
             [
              0.1111111111111111,
              "#46039f"
             ],
             [
              0.2222222222222222,
              "#7201a8"
             ],
             [
              0.3333333333333333,
              "#9c179e"
             ],
             [
              0.4444444444444444,
              "#bd3786"
             ],
             [
              0.5555555555555556,
              "#d8576b"
             ],
             [
              0.6666666666666666,
              "#ed7953"
             ],
             [
              0.7777777777777778,
              "#fb9f3a"
             ],
             [
              0.8888888888888888,
              "#fdca26"
             ],
             [
              1,
              "#f0f921"
             ]
            ],
            "type": "histogram2dcontour"
           }
          ],
          "mesh3d": [
           {
            "colorbar": {
             "outlinewidth": 0,
             "ticks": ""
            },
            "type": "mesh3d"
           }
          ],
          "parcoords": [
           {
            "line": {
             "colorbar": {
              "outlinewidth": 0,
              "ticks": ""
             }
            },
            "type": "parcoords"
           }
          ],
          "pie": [
           {
            "automargin": true,
            "type": "pie"
           }
          ],
          "scatter": [
           {
            "fillpattern": {
             "fillmode": "overlay",
             "size": 10,
             "solidity": 0.2
            },
            "type": "scatter"
           }
          ],
          "scatter3d": [
           {
            "line": {
             "colorbar": {
              "outlinewidth": 0,
              "ticks": ""
             }
            },
            "marker": {
             "colorbar": {
              "outlinewidth": 0,
              "ticks": ""
             }
            },
            "type": "scatter3d"
           }
          ],
          "scattercarpet": [
           {
            "marker": {
             "colorbar": {
              "outlinewidth": 0,
              "ticks": ""
             }
            },
            "type": "scattercarpet"
           }
          ],
          "scattergeo": [
           {
            "marker": {
             "colorbar": {
              "outlinewidth": 0,
              "ticks": ""
             }
            },
            "type": "scattergeo"
           }
          ],
          "scattergl": [
           {
            "marker": {
             "colorbar": {
              "outlinewidth": 0,
              "ticks": ""
             }
            },
            "type": "scattergl"
           }
          ],
          "scattermapbox": [
           {
            "marker": {
             "colorbar": {
              "outlinewidth": 0,
              "ticks": ""
             }
            },
            "type": "scattermapbox"
           }
          ],
          "scatterpolar": [
           {
            "marker": {
             "colorbar": {
              "outlinewidth": 0,
              "ticks": ""
             }
            },
            "type": "scatterpolar"
           }
          ],
          "scatterpolargl": [
           {
            "marker": {
             "colorbar": {
              "outlinewidth": 0,
              "ticks": ""
             }
            },
            "type": "scatterpolargl"
           }
          ],
          "scatterternary": [
           {
            "marker": {
             "colorbar": {
              "outlinewidth": 0,
              "ticks": ""
             }
            },
            "type": "scatterternary"
           }
          ],
          "surface": [
           {
            "colorbar": {
             "outlinewidth": 0,
             "ticks": ""
            },
            "colorscale": [
             [
              0,
              "#0d0887"
             ],
             [
              0.1111111111111111,
              "#46039f"
             ],
             [
              0.2222222222222222,
              "#7201a8"
             ],
             [
              0.3333333333333333,
              "#9c179e"
             ],
             [
              0.4444444444444444,
              "#bd3786"
             ],
             [
              0.5555555555555556,
              "#d8576b"
             ],
             [
              0.6666666666666666,
              "#ed7953"
             ],
             [
              0.7777777777777778,
              "#fb9f3a"
             ],
             [
              0.8888888888888888,
              "#fdca26"
             ],
             [
              1,
              "#f0f921"
             ]
            ],
            "type": "surface"
           }
          ],
          "table": [
           {
            "cells": {
             "fill": {
              "color": "#EBF0F8"
             },
             "line": {
              "color": "white"
             }
            },
            "header": {
             "fill": {
              "color": "#C8D4E3"
             },
             "line": {
              "color": "white"
             }
            },
            "type": "table"
           }
          ]
         },
         "layout": {
          "annotationdefaults": {
           "arrowcolor": "#2a3f5f",
           "arrowhead": 0,
           "arrowwidth": 1
          },
          "autotypenumbers": "strict",
          "coloraxis": {
           "colorbar": {
            "outlinewidth": 0,
            "ticks": ""
           }
          },
          "colorscale": {
           "diverging": [
            [
             0,
             "#8e0152"
            ],
            [
             0.1,
             "#c51b7d"
            ],
            [
             0.2,
             "#de77ae"
            ],
            [
             0.3,
             "#f1b6da"
            ],
            [
             0.4,
             "#fde0ef"
            ],
            [
             0.5,
             "#f7f7f7"
            ],
            [
             0.6,
             "#e6f5d0"
            ],
            [
             0.7,
             "#b8e186"
            ],
            [
             0.8,
             "#7fbc41"
            ],
            [
             0.9,
             "#4d9221"
            ],
            [
             1,
             "#276419"
            ]
           ],
           "sequential": [
            [
             0,
             "#0d0887"
            ],
            [
             0.1111111111111111,
             "#46039f"
            ],
            [
             0.2222222222222222,
             "#7201a8"
            ],
            [
             0.3333333333333333,
             "#9c179e"
            ],
            [
             0.4444444444444444,
             "#bd3786"
            ],
            [
             0.5555555555555556,
             "#d8576b"
            ],
            [
             0.6666666666666666,
             "#ed7953"
            ],
            [
             0.7777777777777778,
             "#fb9f3a"
            ],
            [
             0.8888888888888888,
             "#fdca26"
            ],
            [
             1,
             "#f0f921"
            ]
           ],
           "sequentialminus": [
            [
             0,
             "#0d0887"
            ],
            [
             0.1111111111111111,
             "#46039f"
            ],
            [
             0.2222222222222222,
             "#7201a8"
            ],
            [
             0.3333333333333333,
             "#9c179e"
            ],
            [
             0.4444444444444444,
             "#bd3786"
            ],
            [
             0.5555555555555556,
             "#d8576b"
            ],
            [
             0.6666666666666666,
             "#ed7953"
            ],
            [
             0.7777777777777778,
             "#fb9f3a"
            ],
            [
             0.8888888888888888,
             "#fdca26"
            ],
            [
             1,
             "#f0f921"
            ]
           ]
          },
          "colorway": [
           "#636efa",
           "#EF553B",
           "#00cc96",
           "#ab63fa",
           "#FFA15A",
           "#19d3f3",
           "#FF6692",
           "#B6E880",
           "#FF97FF",
           "#FECB52"
          ],
          "font": {
           "color": "#2a3f5f"
          },
          "geo": {
           "bgcolor": "white",
           "lakecolor": "white",
           "landcolor": "#E5ECF6",
           "showlakes": true,
           "showland": true,
           "subunitcolor": "white"
          },
          "hoverlabel": {
           "align": "left"
          },
          "hovermode": "closest",
          "mapbox": {
           "style": "light"
          },
          "paper_bgcolor": "white",
          "plot_bgcolor": "#E5ECF6",
          "polar": {
           "angularaxis": {
            "gridcolor": "white",
            "linecolor": "white",
            "ticks": ""
           },
           "bgcolor": "#E5ECF6",
           "radialaxis": {
            "gridcolor": "white",
            "linecolor": "white",
            "ticks": ""
           }
          },
          "scene": {
           "xaxis": {
            "backgroundcolor": "#E5ECF6",
            "gridcolor": "white",
            "gridwidth": 2,
            "linecolor": "white",
            "showbackground": true,
            "ticks": "",
            "zerolinecolor": "white"
           },
           "yaxis": {
            "backgroundcolor": "#E5ECF6",
            "gridcolor": "white",
            "gridwidth": 2,
            "linecolor": "white",
            "showbackground": true,
            "ticks": "",
            "zerolinecolor": "white"
           },
           "zaxis": {
            "backgroundcolor": "#E5ECF6",
            "gridcolor": "white",
            "gridwidth": 2,
            "linecolor": "white",
            "showbackground": true,
            "ticks": "",
            "zerolinecolor": "white"
           }
          },
          "shapedefaults": {
           "line": {
            "color": "#2a3f5f"
           }
          },
          "ternary": {
           "aaxis": {
            "gridcolor": "white",
            "linecolor": "white",
            "ticks": ""
           },
           "baxis": {
            "gridcolor": "white",
            "linecolor": "white",
            "ticks": ""
           },
           "bgcolor": "#E5ECF6",
           "caxis": {
            "gridcolor": "white",
            "linecolor": "white",
            "ticks": ""
           }
          },
          "title": {
           "x": 0.05
          },
          "xaxis": {
           "automargin": true,
           "gridcolor": "white",
           "linecolor": "white",
           "ticks": "",
           "title": {
            "standoff": 15
           },
           "zerolinecolor": "white",
           "zerolinewidth": 2
          },
          "yaxis": {
           "automargin": true,
           "gridcolor": "white",
           "linecolor": "white",
           "ticks": "",
           "title": {
            "standoff": 15
           },
           "zerolinecolor": "white",
           "zerolinewidth": 2
          }
         }
        },
        "title": {
         "text": "Number of people by Month"
        },
        "xaxis": {
         "title": {
          "text": "Month"
         }
        },
        "yaxis": {
         "title": {
          "text": "Number of people"
         }
        }
       }
      }
     },
     "metadata": {},
     "output_type": "display_data"
    }
   ],
   "source": [
    "# Create the Scatter plot\n",
    "fig = go.Figure(data=go.Scatter(x=month, y=monthValues, marker=dict(color=colorsDefinition(month))))\n",
    "\n",
    "# Personalize the graph\n",
    "fig.update_layout(\n",
    "    title=\"Number of People by Month\",\n",
    "    xaxis_title=\"Month\",\n",
    "    yaxis_title=\"Number of People\"\n",
    ")\n",
    "\n",
    "# Show the interactive graph\n",
    "fig.show()"
   ]
  },
  {
   "attachments": {},
   "cell_type": "markdown",
   "metadata": {},
   "source": [
    "- We notice that in this case March is the month with the most contacts created, and the month with the least contacts created is February, and from April the contacts created are not less than 540, so we can say that in this case the contacts created seem to be stable from April to December."
   ]
  },
  {
   "attachments": {},
   "cell_type": "markdown",
   "metadata": {},
   "source": [
    "## 5. Importing the data into HubsSpot.\n",
    "Finally, we will import the data into HubSpot. In this section, the `contactExtraction` function, will import contact by contact into HubSpot and it takes about 40 seconds to import 100 contacts. So, for this example, it will take about 40 minutes to import all the contacts. You will receive the next output message *'Contacts uploaded successfully'* once the import is finished. "
   ]
  },
  {
   "cell_type": "code",
   "execution_count": 9,
   "metadata": {},
   "outputs": [
    {
     "data": {
      "text/plain": [
       "'Contacts uploaded successfully'"
      ]
     },
     "execution_count": 9,
     "metadata": {},
     "output_type": "execute_result"
    }
   ],
   "source": [
    "lib.importContacts(dfDuplicates,api_key_david)"
   ]
  },
  {
   "attachments": {},
   "cell_type": "markdown",
   "metadata": {},
   "source": [
    "> A point of improvement is instead of importing contact by contact, import the whole csv file at once, but I couldn't complete this part because I received  different errors in the request and I couldn't find the solution for them, if you could give me some feedback about this I would appreciate it.\n"
   ]
  },
  {
   "attachments": {},
   "cell_type": "markdown",
   "metadata": {},
   "source": [
    "## Optional Point\n",
    "\n",
    "The document suggested an optional item related to storing the Street Address (in this case, Address) field in Hubspot. I completed this process using the property already existing in Hubspot called \"Street Address\" and the column \"Address\" from the dataframe. The process was done using the Import API of Hubspot, and you can see that the way to avoid losing the data was to take the most recent record for each duplicated contact, you could take a look at this process in the module `duplicatesManagment`.\n",
    "\n",
    "---"
   ]
  },
  {
   "attachments": {},
   "cell_type": "markdown",
   "metadata": {},
   "source": [
    "## Questions Table\n",
    "| Questions                                                                                                     | Answers                                                                                                                                                                                                                                                                                                                                                                     |\n",
    "|---------------------------------------------------------------------------------------------------------------|-----------------------------------------------------------------------------------------------------------------------------------------------------------------------------------------------------------------------------------------------------------------------------------------------------------------------------------------------------------------------------|\n",
    "| What is your usual IDE?                                                                                       | I'm not really using an IDE, I use a code editor, Visual Studio Code, but I also have some experience with Spider and IDEs for different languages.                                                                                                                                                                                                                         |\n",
    "| What are the advantages of this IDE over the others?                                                          | The advantages that I have by using VsCode are huge, first is the ability to personalize the environment that I use to develop, such as using extensions, create keyboard shortcuts, even easily configure the indent options, in this case 4 spaces by default for Python, another advantage is the integration with Git to easily manage the control version among other advantages. |\n",
    "| Which of the items resulted in the most computational time for you? Add time in seconds.                      | The item that resulted in the most computing time was the import of the contacts in Hubspot, it took around 2600 seconds, for the 6647 contacts, but as I mentioned before I tried to upload the whole file but it give me some errors in the request that I couldn't solve, another option would be to import the contacts directly through the Hubspot CRM.               |\n",
    "| If you have any public portfolio (e.g., IA, computer visión, data processing…), please share the link with us | I don't have much of a portfolio, but you can check out some of the projects I've been developing on my [Github](https://github.com/dhduartea) account.                                                                                                                                                                                                     |\n",
    "\n",
    "---"
   ]
  },
  {
   "attachments": {},
   "cell_type": "markdown",
   "metadata": {},
   "source": [
    "I sinceraly thank you for the opportunity to participate in this evaluation test for the position of Data Engineer & Analyst at OTF. It has been an exciting and enriching challenge to demonstrate my skills in data handling, Python programming and integration with the HubSpot API. I hope I have showed some of my ability to face the challenges related to data processing, transformation and loading. I am excited about the possibility of being part of your team  and contributing to your success as a Data Engineer & Analyst.\n",
    "    \n",
    "Best regards,\n",
    "\n",
    "    David Horacio Duarte Angulo"
   ]
  }
 ],
 "metadata": {
  "kernelspec": {
   "display_name": "Project_WebScraping",
   "language": "python",
   "name": "python3"
  },
  "language_info": {
   "codemirror_mode": {
    "name": "ipython",
    "version": 3
   },
   "file_extension": ".py",
   "mimetype": "text/x-python",
   "name": "python",
   "nbconvert_exporter": "python",
   "pygments_lexer": "ipython3",
   "version": "3.9.13"
  },
  "orig_nbformat": 4
 },
 "nbformat": 4,
 "nbformat_minor": 2
}
