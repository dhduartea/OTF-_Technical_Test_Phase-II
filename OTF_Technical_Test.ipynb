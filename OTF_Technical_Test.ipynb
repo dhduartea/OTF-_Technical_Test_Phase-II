{
 "cells": [
  {
   "attachments": {},
   "cell_type": "markdown",
   "metadata": {},
   "source": [
    "# Technical Test Phase II: \n",
    "    Data Engineer & Analyst\n",
    "In the following code...\n"
   ]
  }
 ],
 "metadata": {
  "language_info": {
   "name": "python"
  },
  "orig_nbformat": 4
 },
 "nbformat": 4,
 "nbformat_minor": 2
}
